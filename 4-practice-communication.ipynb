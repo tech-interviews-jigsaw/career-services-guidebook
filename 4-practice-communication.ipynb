{
 "cells": [
  {
   "cell_type": "markdown",
   "id": "1298b38a-4c57-4f3e-b0fc-12f518992ff6",
   "metadata": {},
   "source": [
    "# Practice Communicating"
   ]
  },
  {
   "cell_type": "markdown",
   "id": "9634a68d-7c2a-4ac5-834f-324a9c8a38a3",
   "metadata": {},
   "source": [
    "### Introduction"
   ]
  },
  {
   "cell_type": "markdown",
   "id": "339172a2-b330-454a-99b4-c800fad29f08",
   "metadata": {},
   "source": [
    "In this lesson, we'll practice speaking clearly.  Remember our tips:\n",
    "* Problem then solution\n",
    "* Start broad and go narrow\n",
    "\n",
    "The pyramid principle is hard to apply on the spot.  Instead you can apply by just sticking to a few points for each question, and trying to think of buckets.  If you feel it's necessary -- reread the general communication lesson before proceeding (it's relatively short)."
   ]
  },
  {
   "cell_type": "markdown",
   "id": "318d64e1-6755-4ab0-a89a-7b1a91003d76",
   "metadata": {},
   "source": [
    "### Technical Questions"
   ]
  },
  {
   "cell_type": "markdown",
   "id": "b245a2dc-1f89-405d-aa80-6c82d3a97b26",
   "metadata": {},
   "source": [
    "Write out answers to the following or practice with a partner."
   ]
  },
  {
   "cell_type": "markdown",
   "id": "3387302b-804b-4ae8-a7d0-8c565830b562",
   "metadata": {},
   "source": [
    "* What is the adapter pattern.  Why is it used?\n",
    "\n",
    "* What are the *benefits* of using an analytical database?\n",
    "\n",
    "* How does data model differ with an analytical database versus a transactional database?\n",
    "\n",
    "* What does airflow do?\n",
    "\n",
    "* What is docker?\n",
    "\n",
    "* What are the benefits of writing object oriented code?"
   ]
  },
  {
   "cell_type": "markdown",
   "id": "00af5d76-754c-4640-878d-178baa4a2d18",
   "metadata": {},
   "source": [
    "If you are stumped, feel free to reference the outline that was provided (just search for the word outline in Canvas).  Or you can ask Wikipedia or Chatgpt."
   ]
  },
  {
   "cell_type": "markdown",
   "id": "c0a0ee51-770a-43c5-af5f-95bb4d89d05c",
   "metadata": {},
   "source": [
    "### Behavioral Questions\n",
    "\n",
    "* What did you learn in Jigsaw Labs?\n",
    "* Why do you enjoy data engineering?\n",
    "* What did you work on in your data engineering internship?"
   ]
  },
  {
   "cell_type": "markdown",
   "id": "3f41f41a-8924-4189-9953-55eb8513efa6",
   "metadata": {},
   "source": [
    "### Bonus questions\n",
    "\n",
    "Reference the outline in Canvas.  You should be able to generate questions from the topics listed there.  Given an initial topic -- just answer what is it/why is it used."
   ]
  }
 ],
 "metadata": {
  "kernelspec": {
   "display_name": "Python 3 (ipykernel)",
   "language": "python",
   "name": "python3"
  },
  "language_info": {
   "codemirror_mode": {
    "name": "ipython",
    "version": 3
   },
   "file_extension": ".py",
   "mimetype": "text/x-python",
   "name": "python",
   "nbconvert_exporter": "python",
   "pygments_lexer": "ipython3",
   "version": "3.10.6"
  }
 },
 "nbformat": 4,
 "nbformat_minor": 5
}
