{
 "cells": [
  {
   "cell_type": "markdown",
   "id": "5a6c0f0e-a619-4e89-b5d6-6ca423698007",
   "metadata": {},
   "source": [
    "# Practice Resume Questions"
   ]
  },
  {
   "cell_type": "markdown",
   "id": "656e8c6b-4841-4e88-a3af-60ae2f4f0e70",
   "metadata": {},
   "source": [
    "### Introduction"
   ]
  },
  {
   "cell_type": "markdown",
   "id": "1c0107bb-5dcd-4de1-a62c-cd8a73b76518",
   "metadata": {},
   "source": [
    "In this lesson, we'll practice working on questions from our resume.  Let's get started.  Remember to keep the principles about communication that we have learned so far."
   ]
  },
  {
   "cell_type": "markdown",
   "id": "6b549513-e9be-4fb7-883c-4f487e65bc82",
   "metadata": {},
   "source": [
    "### Resume Questions"
   ]
  },
  {
   "cell_type": "markdown",
   "id": "9ba54703-f4ec-4afa-9d40-d915121c9cf8",
   "metadata": {},
   "source": [
    "* Tell me about your career transition?\n",
    "* What did you do in your data engineering internship?\n",
    "* What did you learn in Jigsaw Labs?\n",
    "* What did you study in college?  How do you use it today (here please find a way that it relates to engineering/etc)?\n"
   ]
  },
  {
   "cell_type": "markdown",
   "id": "204f00aa-7de8-4755-b6f9-7259d87cd3f9",
   "metadata": {},
   "source": [
    "### Generic Experience Question"
   ]
  },
  {
   "cell_type": "markdown",
   "id": "27c7962a-6f5f-4258-a159-b24b5506f616",
   "metadata": {},
   "source": [
    "Also take a look at any of the positions on your resume.  If it's on your resume, you should feel comfortable talking about it (without looking at your resume).\n",
    "\n",
    "* Tell me about your role as X (again use the principles from the last section)"
   ]
  }
 ],
 "metadata": {
  "kernelspec": {
   "display_name": "Python 3 (ipykernel)",
   "language": "python",
   "name": "python3"
  },
  "language_info": {
   "codemirror_mode": {
    "name": "ipython",
    "version": 3
   },
   "file_extension": ".py",
   "mimetype": "text/x-python",
   "name": "python",
   "nbconvert_exporter": "python",
   "pygments_lexer": "ipython3",
   "version": "3.10.6"
  }
 },
 "nbformat": 4,
 "nbformat_minor": 5
}
