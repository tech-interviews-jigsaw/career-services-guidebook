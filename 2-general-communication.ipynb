{
 "cells": [
  {
   "cell_type": "markdown",
   "id": "a58014db-c603-4f99-8878-817d14a7a24e",
   "metadata": {},
   "source": [
    "# Effective Communication"
   ]
  },
  {
   "cell_type": "markdown",
   "id": "48d4d1bc-43a1-4cb9-9dc6-c05513eb1cf8",
   "metadata": {},
   "source": [
    "### Introduction"
   ]
  },
  {
   "cell_type": "markdown",
   "id": "be7eeec3-7780-4969-aa7b-dee8323bc83f",
   "metadata": {},
   "source": [
    "A key part of being an engineer, and landing a position as an engineer is being an effective communicator.  In this lesson, we'll move through some tips communicating in a professional setting."
   ]
  },
  {
   "cell_type": "markdown",
   "id": "bc79f77c-0618-408f-b8fc-d3ed1c3360d0",
   "metadata": {},
   "source": [
    "### Talking Professionally"
   ]
  },
  {
   "cell_type": "markdown",
   "id": "9f4b64d0-203b-4ce9-a8f7-c0d95e23e2c4",
   "metadata": {},
   "source": [
    "If you are fairly social, then it may be tempting to think that you don't need to change the way you speak.  But speaking professionally is different than speaking to friends, or being entertaining.  Here, the goal is to convey information in a clear and engaging manner.  Let's move through some common techniques.  "
   ]
  },
  {
   "cell_type": "markdown",
   "id": "57b07b02-de38-4ae6-880a-f2df4775c314",
   "metadata": {
    "jp-MarkdownHeadingCollapsed": true,
    "tags": []
   },
   "source": [
    "### Providing an Answer\n",
    "\n",
    "When asked a question, the answer should be clear but also succinct.  Often these two goals are in conflict.  For example, if someone asks you what a data engineer does -- if you're too succinct you'll leave information out, but too wordy and the answer will be muddled.\n",
    "\n",
    "So here are some techniques:\n",
    "\n",
    "* Start broad and go narrow\n",
    "\n",
    "Start with the top line and the move into 2 or 3 subpoints.\n",
    "\n",
    "For example, what does a data engineer do?\n",
    "\n",
    "> A data engineer collects information from different data sources.  They then organize that information so that various stakeholders can use or analyze the data, or the data engineer may provide some of that analysis.\n",
    "\n",
    "You can see that the above answers the question directly -- but it may be a little boring.  Or it's hard to appreciate the complexity involved.  This brings us to our next technique.\n",
    "\n",
    "* Problem then solution\n",
    "\n",
    "Here, instead of diving directly into the answer, you first set up the problem.  So what do data engineers do?\n",
    "\n",
    "> If you run a company data is really the lifeblood of your company -- you may want to put the right products or information in front of the right consumer, or provide that information to internal teams like marketing or the supply chain so they can best operate.  But collecting that information in one place, reducing conflicts in that data, and providing it in a timely manner is really a challenge.  Data engineers organize internal and external data in a timely manner to present to internal stakeholders, the end user, or to improve the product.\n",
    "\n",
    "This time, you can get a better sense of the challenge data engineers face.  It reveals some of the complexity involved in the task.  Notice that we still follow our technique of starting broad.  For example, we talk providing data to internal or external stakeholders, the end user or product but don't dive into the details of any of those usecases.  This allows the interviewer to follow up on the part they are most interested in.\n",
    "\n",
    "* Answers First\n",
    "\n",
    "Finally, while providing context can really help, it's still important to get to the point.  In high school, you may have learned about starting an essay with a topic sentence.  This is the same concept.  In our problem-solution answer, doesn't arrive right away, but it does arrive by our third sentence -- still fairly quickly.  \n",
    "\n",
    "* Don't ramble\n",
    "\n",
    "By rambling we mean, don't answer questions in a disorganized way.  For example, here might be an example of rambling:\n",
    "\n",
    "> Data engineers use tools like Python, SQL, cloud computing, DBT, scraping. It's really a complex task that involves a lot of skills.  \n",
    "\n",
    "While only a couple of sentences the second sentence is really vague.  And the first sentence just lists different skills, but does no work in summarizing those skills, or explaining their purpose.  It's leaving the reader to tie the answer together and try to understand what they have in common.  That's what happens when you ramble, it may seem like you are providing a lengthy that involved a lot of work and thought, but really you are asking the listener to do the real work of summarizing what you said.\n",
    "\n",
    "### How to avoid rambling\n",
    "\n",
    "Now when asked a question on the spot, it can be difficult to provide a comprehensive yet succinct answer.  You may need a moment to think through it.  Here are a couple techniques:\n",
    "\n",
    "1. First think about the problem\n",
    "\n",
    "* First think about the problem and then the solution.  For example, if you are asked about the benefits of cloud computing, first present the problems of life without cloud computing.  Then the answers should flow more naturally.\n",
    "\n",
    "\n"
   ]
  },
  {
   "cell_type": "markdown",
   "id": "4ea01daf-f221-4022-b868-afb075bc167f",
   "metadata": {},
   "source": [
    "2. Bucket into three topics\n",
    "\n",
    "We'll talk about this later on, but providing three buckets to an answer is generally a good technique.  Do not go up to ten.  Once again, if you list 10 different skills involved in data engineering you are asking the listener to do the summarization for you.  So what does data engineering involve?\n",
    "\n",
    "* Backend development\n",
    "* Cloud computing \n",
    "* Data Pipelines\n",
    "\n",
    "And in each of these buckets are other items.\n",
    "\n",
    "3. You can summarize at the end, if needed\n",
    "\n",
    "If you do find yourself rambling a bit, then provide the summary at the end.  For example, let's take that rambling answer again, but then move into a summary:\n",
    "\n",
    "> Data engineers use tools like Python, SQL, cloud computing, DBT, scraping.  So really, it's a combination of backend engineering tools like SQL and Python, cloud computing, and building pipelines with tools like DBT and airflow.\n",
    "\n",
    "4. Take a moment\n",
    "\n",
    "Finally, if you think more clearly by writing something down first, or taking a moment that's ok.  You can simply say, \"That's a really good question, do you mind if I take a second to write down a couple thoughts?\"\n",
    "\n",
    "Generally, your interviewer will understand.  It shows that your thoughtful, and that you understand that good communication may take a degree of preparation and work."
   ]
  },
  {
   "cell_type": "markdown",
   "id": "f6becc06-d795-419d-becb-067efe0c3e86",
   "metadata": {},
   "source": [
    "### Summary"
   ]
  },
  {
   "cell_type": "markdown",
   "id": "b1435ab3-e86d-4010-927c-738f59f3ce94",
   "metadata": {},
   "source": [
    "In this lesson, we moved through different techniques for speaking effectively.  When communicating you are challenged to provide answers in a concise, comprehensive and organized manner.  To do so, use tools like starting broadly and going narrow, providing a problem as context and then the solution, and remembering to answer the question.\n",
    "\n",
    "Finally, we saw ways to avoid rambling. This means, make sure not just to provide answers in a disorganized manner.  Rather summarize the information, and organize it into buckets.  Starting with the key problem can generally need to a more organized answer, and allow your brain to think of a clear answer while you are setting up the problem."
   ]
  }
 ],
 "metadata": {
  "kernelspec": {
   "display_name": "Python 3 (ipykernel)",
   "language": "python",
   "name": "python3"
  },
  "language_info": {
   "codemirror_mode": {
    "name": "ipython",
    "version": 3
   },
   "file_extension": ".py",
   "mimetype": "text/x-python",
   "name": "python",
   "nbconvert_exporter": "python",
   "pygments_lexer": "ipython3",
   "version": "3.10.6"
  }
 },
 "nbformat": 4,
 "nbformat_minor": 5
}
