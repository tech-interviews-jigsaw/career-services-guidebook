{
 "cells": [
  {
   "cell_type": "markdown",
   "id": "12a61675-58b5-4418-a2b2-34ac8414a78f",
   "metadata": {},
   "source": [
    "# Vetting Job Openings"
   ]
  },
  {
   "cell_type": "markdown",
   "id": "ef567768-f121-45cb-ba55-38cb5bdd585b",
   "metadata": {},
   "source": [
    "### Introduction"
   ]
  },
  {
   "cell_type": "markdown",
   "id": "0e895122-12e8-4c04-b3b3-e32c3b008af0",
   "metadata": {},
   "source": [
    "In this section, we'll talk about reading and understanding job boards.  "
   ]
  },
  {
   "cell_type": "markdown",
   "id": "4591bab9-79a4-45c1-9509-9c3d1f19bdff",
   "metadata": {},
   "source": [
    "### Remembering what you have"
   ]
  },
  {
   "cell_type": "code",
   "execution_count": null,
   "id": "72e243d1-d061-48de-abb1-99a8b819ce7a",
   "metadata": {},
   "outputs": [],
   "source": []
  },
  {
   "cell_type": "markdown",
   "id": "8fc5bef0-a4f5-43bd-8da6-e6633fb41f9c",
   "metadata": {},
   "source": [
    "#### Mistakes to avoid\n",
    "\n",
    "* Skills \n",
    "\n",
    "A job description will list \n",
    "\n",
    "* Titles, titles, titles\n",
    "\n",
    "When applying for jobs, it's a good idea not to focus \n",
    "\n",
    "#### Difficulty of Jobs\n",
    "\n",
    "Less Experience\n",
    "* Intern/Apprentice\n",
    "* Associate\n",
    "* Junior\n",
    "\n",
    "Lots of experience\n",
    "* Sr. Engineer (3 - 5 years)\n",
    "* Principal Engineer (5+)"
   ]
  },
  {
   "cell_type": "markdown",
   "id": "84037590-929c-44f6-b5da-06405f516b68",
   "metadata": {},
   "source": [
    "#### Jobs to Look For\n",
    "\n",
    "* Data Analyst\n",
    "    * A data analyst is expected to have a combination \n",
    "    * Typical Skills: SQL, Excel, Data visualisation\n",
    "    * More Tech: DBT, Redshift/Bigquery/Snowflake\n",
    "    * Data Science: ML, Statistics\n",
    "* Business intelligence engineer\n",
    "    * Data visualization, tableau\n",
    "* Analytics Engineer\n",
    "\n",
    "* Data Engineer\n",
    "* Python Developer/Engineer\n",
    "* Backend Developer/Engineer\n",
    "\n",
    "* Devops Engineer\n",
    "* Cloud Engineer\n",
    "* AWS engineer\n",
    "\n"
   ]
  },
  {
   "cell_type": "code",
   "execution_count": null,
   "id": "d0be1491-75c1-47ed-9937-2fadc41afeac",
   "metadata": {},
   "outputs": [],
   "source": []
  }
 ],
 "metadata": {
  "kernelspec": {
   "display_name": "Python 3 (ipykernel)",
   "language": "python",
   "name": "python3"
  },
  "language_info": {
   "codemirror_mode": {
    "name": "ipython",
    "version": 3
   },
   "file_extension": ".py",
   "mimetype": "text/x-python",
   "name": "python",
   "nbconvert_exporter": "python",
   "pygments_lexer": "ipython3",
   "version": "3.9.12"
  }
 },
 "nbformat": 4,
 "nbformat_minor": 5
}
