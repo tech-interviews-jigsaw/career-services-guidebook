{
 "cells": [
  {
   "cell_type": "markdown",
   "id": "acd66f57-dd9a-4330-bd7c-407d28a8ad7d",
   "metadata": {},
   "source": [
    "# Preinterview Questionaire"
   ]
  },
  {
   "cell_type": "markdown",
   "id": "25a14840-7cc1-4210-8e19-533b0a67aae3",
   "metadata": {},
   "source": [
    "### Introduction"
   ]
  },
  {
   "cell_type": "markdown",
   "id": "19695e57-084c-42b3-9845-376a08e1d4b4",
   "metadata": {},
   "source": [
    "Ok, so before you attend an initial interview fill out the following so that you do not get caught off guard in an actual interview."
   ]
  },
  {
   "cell_type": "markdown",
   "id": "44e4b8d9-9e5e-4292-9288-d9cf79c3be4e",
   "metadata": {},
   "source": [
    "### Questions"
   ]
  },
  {
   "cell_type": "code",
   "execution_count": null,
   "id": "edf228fd-4218-4dbc-9b62-4649161d3b0d",
   "metadata": {},
   "outputs": [],
   "source": []
  }
 ],
 "metadata": {
  "kernelspec": {
   "display_name": "Python 3 (ipykernel)",
   "language": "python",
   "name": "python3"
  },
  "language_info": {
   "codemirror_mode": {
    "name": "ipython",
    "version": 3
   },
   "file_extension": ".py",
   "mimetype": "text/x-python",
   "name": "python",
   "nbconvert_exporter": "python",
   "pygments_lexer": "ipython3",
   "version": "3.10.6"
  }
 },
 "nbformat": 4,
 "nbformat_minor": 5
}
