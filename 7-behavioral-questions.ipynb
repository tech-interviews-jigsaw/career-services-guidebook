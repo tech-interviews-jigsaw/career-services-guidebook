{
 "cells": [
  {
   "cell_type": "markdown",
   "id": "6bce67d6-673d-47c5-99c4-a5fcfaff3af0",
   "metadata": {},
   "source": [
    "## Behavioral Interview Questions"
   ]
  },
  {
   "cell_type": "markdown",
   "id": "6f965413-f50d-46f9-97f2-83a5a835f51e",
   "metadata": {},
   "source": [
    "### Introduction"
   ]
  },
  {
   "cell_type": "markdown",
   "id": "6443cb40-ebd3-436e-b99c-63bcb9f1a1aa",
   "metadata": {},
   "source": [
    "Now that you have performed that initial research you should be able to answer some typical behavioral interview questions, explaining how you are a fit for the position.  Let's move through some typical questions.      "
   ]
  },
  {
   "cell_type": "markdown",
   "id": "e04f2f6b-7964-45f6-b8e5-a6f0bd6505e4",
   "metadata": {},
   "source": [
    "### What about the company do you like?"
   ]
  },
  {
   "cell_type": "markdown",
   "id": "b26666cc-562f-4a20-b3c0-7190d10d667f",
   "metadata": {},
   "source": [
    "When answering any behavioral questios, the *implicit* argument should be that given your past experiences and what you would like to lean and do in the future, you really are a good fit for the position and the company.  Doing this may take convincing -- of yourself.  You don't need to be over the top in the interview -- if you walk into the interview genuinely interested, it will come across.  Typicall a company will ask the following:\n",
    "\n",
    "* *How do you think you would be a good match for this company/role?*\n",
    "\n",
    "To see how your previous experience matches up with the company and role, a good tool is to take out your resume and the research you did in preparing for the interview, and see how the current position aligns with your past experiences and interests.\n",
    "\n",
    "There are three dimensions on which there may be alignment: the subject matter of the company, the technical work you would be doing for the company, and the company culture.  Try to think about why you enjoyed similar work along either of these dimensions in the past, and why you would enjoy it going forward.  \n",
    "\n",
    "* Domain\n",
    "For example, if the role is a marketing role -- have you done previous work where you thought about the end product users, or attracting users?  What made that interesting.  \n",
    "\n",
    "* Technical \n",
    "Or does the work call for a lot of cloud computing, that will ask you to self-learn and figure out the best tool for the job?  Where have you previously done that -- it doesn't have to be a engineering role, but other roles may also be applicable.\n",
    "\n",
    "* Culture\n",
    "If the job is a startup you can mention being in an environment where people are asked to be scrappy, or surrounded with people passionate about their work.  For a more corporate environment, perhaps you value being in a company that has a strong organizational structure, and can invest in employee growth.\n",
    "\n",
    "> When giving any of these answers it is important to stay positive.  For example don't say, well I can't work in a startup environment, so this culture really suits me.  That \"process of elimination\" approach indicates more what you don't enjoy than what you do enjoy."
   ]
  },
  {
   "cell_type": "markdown",
   "id": "4ca629a2-5399-4247-9384-edf63b977faf",
   "metadata": {},
   "source": [
    "### What about the role do you like?"
   ]
  },
  {
   "cell_type": "markdown",
   "id": "c2cd29ff-fbc5-4871-a808-089b1cf44cf3",
   "metadata": {},
   "source": [
    "Here is a typical question:"
   ]
  },
  {
   "cell_type": "markdown",
   "id": "7e12e257-079a-4039-b2ce-28134f33fc66",
   "metadata": {},
   "source": [
    "* *Why do you want to be a data engineer/analytics engineer/software engineer, etc.?*"
   ]
  },
  {
   "cell_type": "markdown",
   "id": "b5feed53-0e41-4a4c-8bbe-6797ef766b2f",
   "metadata": {},
   "source": [
    "> Here, as with all questions, answer this in the positive sense.  Let's start with things you should not say.\n",
    "\n",
    "For example, don't say:\n",
    "\n",
    "**Don't say** well I didn't like working in finance or retail.\n",
    "* If you do mention your old careers, you should mention them positively.  And this response doesn't tell us why this profession is the right one for you -- there are a lot of jobs not in finance or retail.\n",
    "\n",
    "**Don't say** well I really want to be a data scientist, but I found it was more practical to work in this position.  \n",
    "* The hiring manager is considering whether to pay you a lot of money to work in *this* particular role.  They do not want to see that this is a second choice for you, when it is likely something you are passionate about.\n",
    "\n",
    "**Don't mention** the pay or working remote, or lifestyle of the position.  The hiring manager wants to see that you are passionate about the work itself, not your life outside of work.   \n",
    "\n",
    "Instead, your answer should convey your love of data engineering -- or whatever the position is.  So some stronger answers may say something like:\n",
    "\n",
    "* When working in retail, I realized how vital data was towards understanding our business.  But beyond the analysis, what I really grew to love was the coding and engineering that went along with it.  And pursuing the course, I loved that we had to have a strong skillset in coding, but also learn about different technologies (eg. DBT, snowflake, Airflow) and how setting up the right infrastructure helped solve analytical problems for others.\n",
    "\n",
    "A question like the above is strong because it shows genuine reflection (we previously had spent time working with data), and that a passion for both engineering and data means that this is the ideal occupation for you. \n",
    "\n",
    "> Of course, you cannot just memorize the above as your answer. It needs to be a genuine reason as to why **you** want to become an engineer."
   ]
  },
  {
   "cell_type": "markdown",
   "id": "7c165293-45af-4cf4-a85c-953a26cdcdff",
   "metadata": {},
   "source": [
    "### Do you have any questions for me?\n",
    "\n",
    "Towards the end of the interview you may be asked if you have any questions for the hiring manager.  Again, you should ask questions you are genuinely interested in asking.  However, we can help you get started.\n",
    "\n",
    "First off, if you were asked technical questions, do not ask how did I just do on the interview?  The employer wants to see that you are genuinely interested in their position, and the answer to that question will only help you on your next interview with another company.\n",
    "\n",
    "Instead, here are some alternatives.\n",
    "\n",
    "* Are there any traits that tend to make new hires successful in this role?\n",
    "* How does this role contribute to larger company goals?\n",
    "    * While I would not ask this question verbatim, this sentiment is good.  Some alternatives may be, who are some of the typical stakeholders the data engineering team works with.  What is the type of data we typically work with.  \n",
    "    \n",
    "* How have the tasks of the data engineering team changed as the company has evolved. \n",
    "  * This can be asked as an alternative to the previous question, it also gets at how the data engineering team serves the company.\n",
    "  \n",
    "* What are the some of the challenges in working with the data?\n",
    "    * For example, it could handling duplicates, or keeping the data up to date, or it could be properly data modeling a complex domain."
   ]
  },
  {
   "cell_type": "markdown",
   "id": "6ca4dc87-a6ec-4a04-8cb0-f11deca4e21f",
   "metadata": {},
   "source": [
    "### Summary"
   ]
  },
  {
   "cell_type": "markdown",
   "id": "39f20a22-6fac-45bb-baee-7b5d4cad8071",
   "metadata": {},
   "source": [
    "The theme of this section is similar to previous ones: have and convey genuine interest in the company and the position.  To have genuine interest in the position takes work -- it involves a lot of the work involved in researching the company in the past section.  Then when answering behavioral interview questions, make sure to be explaining why this job is uniquely suited to you.  Do not say express negativity towards previous roles you may have had.  "
   ]
  },
  {
   "cell_type": "markdown",
   "id": "00447a72-69a9-4059-9dad-afac0520957d",
   "metadata": {},
   "source": [
    "### Resources\n",
    "\n",
    "[Questions to Ask](https://www.topresume.com/career-advice/13-of-the-smartest-questions-to-ask-a-hiring-manager)\n",
    "\n",
    "[Questions to Ask a Tech Hiring Manager](https://www.turing.com/blog/technical-leaders-hiring-managers-ask-these-questions-during-recruitment-process/)"
   ]
  }
 ],
 "metadata": {
  "kernelspec": {
   "display_name": "Python 3 (ipykernel)",
   "language": "python",
   "name": "python3"
  },
  "language_info": {
   "codemirror_mode": {
    "name": "ipython",
    "version": 3
   },
   "file_extension": ".py",
   "mimetype": "text/x-python",
   "name": "python",
   "nbconvert_exporter": "python",
   "pygments_lexer": "ipython3",
   "version": "3.10.6"
  }
 },
 "nbformat": 4,
 "nbformat_minor": 5
}
