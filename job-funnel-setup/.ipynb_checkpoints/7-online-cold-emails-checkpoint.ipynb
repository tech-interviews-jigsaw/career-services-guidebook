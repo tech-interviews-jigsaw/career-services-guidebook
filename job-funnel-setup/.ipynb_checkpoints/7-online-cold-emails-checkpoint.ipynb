{
 "cells": [
  {
   "cell_type": "markdown",
   "id": "55a9c6e7-d6c3-4b0c-9d4a-6aad9153c585",
   "metadata": {},
   "source": [
    "# Finding Cold Reachouts Online"
   ]
  },
  {
   "cell_type": "markdown",
   "id": "0a6285bd-12a9-44c2-9431-cedfd6fef898",
   "metadata": {},
   "source": [
    "### Introduction"
   ]
  },
  {
   "cell_type": "markdown",
   "id": "afd0045e-a670-4300-845b-576e2137932c",
   "metadata": {},
   "source": [
    "A really effective way to build your network is through cold reachouts online.  This may seem unlikely, but from experience, a lot of individuals will be willing to chat with you, given the correct approach."
   ]
  },
  {
   "cell_type": "markdown",
   "id": "acd38b3b-f7a4-455d-be27-e506e83d4854",
   "metadata": {},
   "source": [
    "### Will people really respond?"
   ]
  },
  {
   "cell_type": "markdown",
   "id": "5cff4821-ce6f-4222-82be-6922c4d04ca3",
   "metadata": {},
   "source": [
    "So long as individuals do not think they are being spammed, and you explain convey your particular interest in what they do, a lot of individuals will respond to you.\n",
    "\n",
    "* You're reaching out to engineers, not actual rock stars.  Some will be flattered, if you want some genuine advice.  \n",
    "* Everyone had to look for a job at one point in time, and many want to pay it forward.\n",
    "\n",
    "Once again, let's hear from Alison Quaglia."
   ]
  },
  {
   "cell_type": "markdown",
   "id": "46e3a11f-fd98-4a61-853d-78b18dfce406",
   "metadata": {},
   "source": [
    "\n",
    "> \"I’ve heard so many people lament that they hate “cold emailing” and how “fake” it feels, so I have to ask, why are you being fake? There’s no need to pretend to be interested in someone or some company when you really couldn’t care less. There are countless companies and individuals doing really cool stuff out there. Be curious! If you see someone with a great portfolio or a seriously impressive project, reach out and tell them so!\n",
    "\n",
    "> \"I’ve found that people are generally really nice when you approach them with genuine curiosity, respect and admiration for their work, and if they have the time, they might be willing to speak with you. I’ve had some great conversations with people whose work I truly admire (A cognitive dress using Watson! Disney Imagineering! Pure CSS art that looks like oil paintings! UX Engineering!), and they’ve been kind enough to offer advice and tell me about their projects in depth. Some people were even generous enough to jump on a video call. You can learn SO much from others, so why do you feel afraid to reach out?\"\n",
    "\n",
    "[Breaking into the Unknown](https://levelup.gitconnected.com/into-the-unknown-advice-for-breaking-into-the-tech-industry-9ba3ce52645)"
   ]
  },
  {
   "cell_type": "markdown",
   "id": "f3cbe84b-dc24-4f52-b0e9-3b4ec2b3b60d",
   "metadata": {},
   "source": [
    "### Who to target"
   ]
  },
  {
   "cell_type": "markdown",
   "id": "dbe31d41-073c-4b86-a175-caf7e6b97037",
   "metadata": {},
   "source": [
    "Who responds will be based on you (and your message), and based on them, and whether they tend to be a connector.  You typically need both to occur.\n",
    "\n",
    "#### 1. Your interests\n",
    "\n",
    "Find individuals or careers who align with your pre-identified interests.  Remember you want to convey this in your message."
   ]
  },
  {
   "cell_type": "markdown",
   "id": "a3284f8b-64f6-4cab-a44b-c0a04e49b685",
   "metadata": {},
   "source": [
    "#### 2. Connectors"
   ]
  },
  {
   "cell_type": "markdown",
   "id": "ab7abd87-3e16-4efb-ab73-e4722d01e124",
   "metadata": {},
   "source": [
    "* Senior individuals  are often connectors\n",
    "\n",
    "You may think that higher up individuals will be less willing to talk to you than people further down in the totem pole -- but often they are ideal to talk to because (a) they are natural connectors and (b) they have the leverage to interview you even if you would not typically qualify for a position."
   ]
  },
  {
   "cell_type": "markdown",
   "id": "0ee2b8b7-211d-4dae-9724-cb0101ffd399",
   "metadata": {},
   "source": [
    "> Here's an example of Presidential Candidate Andrew Yang, considering me for a teaching position I wasn't qualified for."
   ]
  },
  {
   "cell_type": "markdown",
   "id": "40b78f8f-8671-479b-99f4-3537410ce96c",
   "metadata": {},
   "source": [
    "> <img src=\"./andrew-yang.png\" width=\"100%\">"
   ]
  },
  {
   "cell_type": "markdown",
   "id": "aa2b57eb-a56d-4f8c-86a2-15bd4a4ffc01",
   "metadata": {},
   "source": [
    "### 3. Lean on your network"
   ]
  },
  {
   "cell_type": "markdown",
   "id": "685a5927-6f25-419f-924d-90b7570343e5",
   "metadata": {},
   "source": [
    "You can increase your odds even further if you lean on your existing network.  There are a couple ways to do this.\n",
    "\n",
    "A. Loose Ties\n",
    "\n",
    "* Sign up for your alumni network.  These individuals are likely to be connectors, and they have a connection to you.  If you align in interests, that's a bingo.\n",
    "\n",
    "* Linkedin - If you have a mutual connection, between you and someone you want to talk to, see if they can make the introduction.  Here's an example of a message I received recently.\n",
    "\n",
    "> \"Jeff, how are you? Been a while. Do you know Nick well enough to make an intro?\" \n",
    "\n",
    "> I also met Alison Quaglia this way.\n"
   ]
  },
  {
   "cell_type": "markdown",
   "id": "eb244559-bdbb-4b0b-b215-981bc643e616",
   "metadata": {},
   "source": [
    "B. Blog posts/authors\n",
    "\n",
    "You know that interest your pursuing by learning more about it?  Reach out to the author - or just say thank you to them (just to be nice).  If you have a question, you may be surprised that you'll get an answer back.  \n",
    "\n",
    "Writing can be a bit lonely.  They'll be happy you did."
   ]
  },
  {
   "cell_type": "markdown",
   "id": "1b68686d-b0dc-4fca-a73c-2753b8e0f4b1",
   "metadata": {},
   "source": [
    "> <img src=\"./u-mich.png\" width=\"100%\">"
   ]
  },
  {
   "cell_type": "markdown",
   "id": "4bbe1c92-abf7-4611-b236-e22256c47948",
   "metadata": {},
   "source": [
    "### Summary"
   ]
  },
  {
   "cell_type": "markdown",
   "id": "1e23f74f-71b8-4da0-9f2a-4aba9f28c3db",
   "metadata": {},
   "source": [
    "In this lesson, we identified individuals to reach out to online.  We saw that who responds is often a combination of (1) your alignment with them and (2) whether they tend to like connecting individuals to others in their network.\n",
    "\n",
    "The point is that you may find some individuals that you are more closely related to who don't respond, just because they're not a natural connector.  Senior people often are, and they can take action -- so if there's genuine interest, reach out."
   ]
  },
  {
   "cell_type": "markdown",
   "id": "d4aa1087-39e1-4a04-ac42-7154da6410b7",
   "metadata": {},
   "source": [
    "### Resources\n",
    "\n",
    "[Alison Quaglia - Breaking In](https://levelup.gitconnected.com/into-the-unknown-advice-for-breaking-into-the-tech-industry-9ba3ce52645)\n",
    "\n",
    "[Breaking into the NY Tech Community - Vinicius Vacanti](http://viniciusvacanti.com/2010/07/12/how-i-became-a-member-of-the-ny-tech-community/)"
   ]
  }
 ],
 "metadata": {
  "kernelspec": {
   "display_name": "Python 3 (ipykernel)",
   "language": "python",
   "name": "python3"
  },
  "language_info": {
   "codemirror_mode": {
    "name": "ipython",
    "version": 3
   },
   "file_extension": ".py",
   "mimetype": "text/x-python",
   "name": "python",
   "nbconvert_exporter": "python",
   "pygments_lexer": "ipython3",
   "version": "3.9.12"
  }
 },
 "nbformat": 4,
 "nbformat_minor": 5
}
