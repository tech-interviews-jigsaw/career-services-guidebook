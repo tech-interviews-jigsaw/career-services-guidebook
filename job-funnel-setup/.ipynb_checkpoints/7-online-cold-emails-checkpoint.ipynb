{
 "cells": [
  {
   "cell_type": "markdown",
   "id": "55a9c6e7-d6c3-4b0c-9d4a-6aad9153c585",
   "metadata": {},
   "source": [
    "# Cold reachouts online"
   ]
  },
  {
   "cell_type": "markdown",
   "id": "0a6285bd-12a9-44c2-9431-cedfd6fef898",
   "metadata": {},
   "source": [
    "### Introduction"
   ]
  },
  {
   "cell_type": "markdown",
   "id": "afd0045e-a670-4300-845b-576e2137932c",
   "metadata": {},
   "source": [
    "A really effective way to build your network is through cold reachouts online.  This may seem unlikely, but from experience, a lot of individuals will be willing to chat with you, given the correct approach."
   ]
  },
  {
   "cell_type": "markdown",
   "id": "acd38b3b-f7a4-455d-be27-e506e83d4854",
   "metadata": {},
   "source": [
    "### Will people really respond?"
   ]
  },
  {
   "cell_type": "markdown",
   "id": "5cff4821-ce6f-4222-82be-6922c4d04ca3",
   "metadata": {},
   "source": [
    "So long as individuals do not think they are being spammed, and you explain convey your particular interest in what they do, a lot of individuals will respond to you.\n",
    "\n",
    "* You're reaching out to engineers, not actual rock stars.  Some will be flattered, if you want some genuine advice.  \n",
    "* Everyone had to look for a job at one point in time, and many want to pay it forward.\n",
    "\n",
    "Once again, let's hear from Alison Quaglia."
   ]
  },
  {
   "cell_type": "markdown",
   "id": "46e3a11f-fd98-4a61-853d-78b18dfce406",
   "metadata": {},
   "source": [
    "\n",
    "> \"I’ve heard so many people lament that they hate “cold emailing” and how “fake” it feels, so I have to ask, why are you being fake? There’s no need to pretend to be interested in someone or some company when you really couldn’t care less. There are countless companies and individuals doing really cool stuff out there. Be curious! If you see someone with a great portfolio or a seriously impressive project, reach out and tell them so!\n",
    "\n",
    "> \"I’ve found that people are generally really nice when you approach them with genuine curiosity, respect and admiration for their work, and if they have the time, they might be willing to speak with you. I’ve had some great conversations with people whose work I truly admire (A cognitive dress using Watson! Disney Imagineering! Pure CSS art that looks like oil paintings! UX Engineering!), and they’ve been kind enough to offer advice and tell me about their projects in depth. Some people were even generous enough to jump on a video call. You can learn SO much from others, so why do you feel afraid to reach out?\"\n",
    "\n",
    "[Breaking into the Unknown](https://levelup.gitconnected.com/into-the-unknown-advice-for-breaking-into-the-tech-industry-9ba3ce52645)"
   ]
  },
  {
   "cell_type": "markdown",
   "id": "f3cbe84b-dc24-4f52-b0e9-3b4ec2b3b60d",
   "metadata": {},
   "source": [
    "### Who to target"
   ]
  },
  {
   "cell_type": "markdown",
   "id": "4bbe1c92-abf7-4611-b236-e22256c47948",
   "metadata": {},
   "source": [
    "> \"Jeff, how are you? Been a while. Do you know Nick well enough to make an intro?\""
   ]
  },
  {
   "cell_type": "markdown",
   "id": "f9f24216-9f6d-4153-b298-dd9ea630636c",
   "metadata": {},
   "source": [
    "* Is there a mutual connection?  "
   ]
  },
  {
   "cell_type": "markdown",
   "id": "945f3046-76bd-409a-9a39-78f62928b10f",
   "metadata": {},
   "source": [
    "### How to do it"
   ]
  },
  {
   "cell_type": "code",
   "execution_count": null,
   "id": "14eb4b7a-13f3-48b3-b96e-b2ade21ceaca",
   "metadata": {},
   "outputs": [],
   "source": []
  },
  {
   "cell_type": "markdown",
   "id": "40b78f8f-8671-479b-99f4-3537410ce96c",
   "metadata": {},
   "source": [
    "<img src=\"./andrew-yang.png\" width=\"100%\">"
   ]
  },
  {
   "cell_type": "markdown",
   "id": "732595fc-39e7-43b5-af6a-30fdeffa307c",
   "metadata": {},
   "source": [
    "<img src=\"./jig-job.png\">"
   ]
  },
  {
   "cell_type": "markdown",
   "id": "6a957367-91fc-4408-a76b-5b153c443ac8",
   "metadata": {},
   "source": [
    "<img src=\"./library-for-all.png\" width=\"60%\">"
   ]
  },
  {
   "cell_type": "markdown",
   "id": "e9e70601-8cf1-4e35-baf7-74d3344dcccf",
   "metadata": {},
   "source": [
    "<img src=\"./intern?.png\" width=\"60%\">"
   ]
  },
  {
   "cell_type": "markdown",
   "id": "d4aa1087-39e1-4a04-ac42-7154da6410b7",
   "metadata": {},
   "source": [
    "### Resources\n",
    "\n",
    "[Alison Quaglia - Breaking In](https://levelup.gitconnected.com/into-the-unknown-advice-for-breaking-into-the-tech-industry-9ba3ce52645)\n",
    "\n",
    "[Breaking into the NY Tech Community - Vinicius Vacanti](http://viniciusvacanti.com/2010/07/12/how-i-became-a-member-of-the-ny-tech-community/)"
   ]
  }
 ],
 "metadata": {
  "kernelspec": {
   "display_name": "Python 3 (ipykernel)",
   "language": "python",
   "name": "python3"
  },
  "language_info": {
   "codemirror_mode": {
    "name": "ipython",
    "version": 3
   },
   "file_extension": ".py",
   "mimetype": "text/x-python",
   "name": "python",
   "nbconvert_exporter": "python",
   "pygments_lexer": "ipython3",
   "version": "3.9.12"
  }
 },
 "nbformat": 4,
 "nbformat_minor": 5
}
