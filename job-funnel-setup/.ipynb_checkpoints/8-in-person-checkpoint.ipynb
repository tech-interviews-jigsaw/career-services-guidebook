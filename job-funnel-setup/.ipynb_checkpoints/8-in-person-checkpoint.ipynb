{
 "cells": [
  {
   "cell_type": "markdown",
   "id": "b57c6b09-69bd-40d9-ada5-8f0f872920ae",
   "metadata": {},
   "source": [
    "# Attending Meetups"
   ]
  },
  {
   "cell_type": "markdown",
   "id": "1ceb12b3-5c36-4849-8530-3ac7fd9a4ccc",
   "metadata": {},
   "source": [
    "We recommend experimenting at first, and then narrowing in on some of the channels that work best for you, and then becoming essentially \"a regular\" in those communities -- meaning attend multiple events, find ways to the contribute to the community, etc."
   ]
  },
  {
   "cell_type": "code",
   "execution_count": null,
   "id": "c17d0ffa-2ee8-4ffe-ab5c-14992bc39330",
   "metadata": {},
   "outputs": [],
   "source": []
  }
 ],
 "metadata": {
  "kernelspec": {
   "display_name": "Python 3 (ipykernel)",
   "language": "python",
   "name": "python3"
  },
  "language_info": {
   "codemirror_mode": {
    "name": "ipython",
    "version": 3
   },
   "file_extension": ".py",
   "mimetype": "text/x-python",
   "name": "python",
   "nbconvert_exporter": "python",
   "pygments_lexer": "ipython3",
   "version": "3.9.12"
  }
 },
 "nbformat": 4,
 "nbformat_minor": 5
}
