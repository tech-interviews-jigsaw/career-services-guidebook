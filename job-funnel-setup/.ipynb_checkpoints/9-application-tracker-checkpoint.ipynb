{
 "cells": [
  {
   "cell_type": "markdown",
   "id": "488b1732-ecc4-4b8c-87fb-08c63dc5f97b",
   "metadata": {},
   "source": [
    "# In your tracker"
   ]
  },
  {
   "cell_type": "markdown",
   "id": "f3df2c37-a127-4d8d-87ea-57a8bfb9ced2",
   "metadata": {},
   "source": [
    "### Introduction"
   ]
  },
  {
   "cell_type": "markdown",
   "id": "6943e737-24f8-4a37-8afb-f30feb966a64",
   "metadata": {},
   "source": [
    "Let's take a look at submitting applications, and tracking them through our spreadsheet.\n",
    "\n",
    "We set up a page to track submitting applications so that you can better:\n",
    "\n",
    "1. Manage those applications and \n",
    "2. Learn from your efforts"
   ]
  },
  {
   "cell_type": "markdown",
   "id": "c07e3f25-ae81-42f3-882b-0d64f99b6c99",
   "metadata": {},
   "source": [
    "### Getting started"
   ]
  },
  {
   "cell_type": "markdown",
   "id": "18acf81f-769d-4c95-b5df-4eb91c6552fb",
   "metadata": {},
   "source": [
    "To begin take the [tracker](https://docs.google.com/spreadsheets/d/17HynqrkQHbbt2b3laz0amUG5EiaLJ0sBK-XF3mQwBEQ/), make a copy of it and then update the title to replace \"Lisa Simpson\" with your name.\n",
    "\n",
    "Next, click the share button in the top right, and share the tracker with Jeff (jeff@jigsawlabs.io) and Wayne, and Micah (emails to be provided).\n",
    "\n",
    "Ok, now let's take a little tour."
   ]
  },
  {
   "cell_type": "markdown",
   "id": "9c32ac97-3303-4ce0-8186-7b3762375482",
   "metadata": {},
   "source": [
    "### Applications Page"
   ]
  },
  {
   "cell_type": "markdown",
   "id": "9a4ea002-ce6a-412f-9c58-7af6c7716dc2",
   "metadata": {},
   "source": [
    "Let's start with the applications page."
   ]
  },
  {
   "cell_type": "markdown",
   "id": "9b0e393e-77ec-4b07-aa30-1dbb96b96619",
   "metadata": {},
   "source": [
    "<img src=\"./applications.png\">"
   ]
  },
  {
   "cell_type": "markdown",
   "id": "dadd40e8-b454-4060-a0e5-412aad298cfd",
   "metadata": {},
   "source": [
    "There you'll see a list of job sites, and job titles that you can be applying for.  \n",
    "\n",
    "* Application Channel\n",
    "\n",
    "Notice that this does not include linkedin.  This is because that channel is often flooded with applicants.  That does not mean you should not use linkedin -- but you may not have a great chance if there are over 30 applicants or the position is open for more than a week. \n",
    "\n",
    "The other sites are less likely to get flooded, and are there for you to experiment with.  \n",
    "It's valuable for you to fill in this information, so that you can see which channels are most successful for you.  \n",
    "\n",
    "> You will reorder these, and remove those that are not useful to you.\n",
    "\n",
    "* Job Title\n",
    "\n",
    "In job title, you can see the various titles you are eligible for.  We'll go into more details about these titles in a later lesson.  But for now, know that you should experiment with a range of titles.  Your goal is to get your foot in the door -- oftentimes the on the job responsibilities can be more interesting than is described in the title, or even the description.\n",
    "\n",
    "* Applied Company Website/Hiring Manager\n",
    "\n",
    "To increase your chance of hearing back, do your part by also applying on the company website.  And for those jobs that you are interested in, find who you think is the hiring manager (on linkedin) tell them that you applied and explain why you are genuinely interested.\n",
    "\n",
    "You do not want to sound too salesy with this -- rather communicate your genuine interest in their particular company/position.  We will talk through reach out advice in a later lesson."
   ]
  },
  {
   "cell_type": "markdown",
   "id": "82889eee-4120-423b-ba71-e00bf3299c14",
   "metadata": {},
   "source": [
    "* Hear back "
   ]
  },
  {
   "cell_type": "markdown",
   "id": "70c9334b-20cd-4ff5-9ad1-ebd146c1f18b",
   "metadata": {},
   "source": [
    "Next, you can track the potential employer's response.  This means tracking whether you received a response, and if you made it onto an interview."
   ]
  },
  {
   "cell_type": "markdown",
   "id": "dbd899d0-0aaf-43d2-b62e-732c4e76c555",
   "metadata": {},
   "source": [
    "### The conversion funnel"
   ]
  },
  {
   "cell_type": "markdown",
   "id": "9c654139-0a03-42a6-b55b-f4ed9b2a65e7",
   "metadata": {},
   "source": [
    "If you fill out the application page accurately, you'll see the information in the Application Funnel naturally begin to populate."
   ]
  },
  {
   "cell_type": "markdown",
   "id": "39bf39db-6a1f-4a05-9722-dd983cc1ca7d",
   "metadata": {},
   "source": [
    "<img src=\"./application-funnel.png\" width=\"80%\">"
   ]
  },
  {
   "cell_type": "markdown",
   "id": "6231948b-32fc-453a-ac22-7d468ec31599",
   "metadata": {},
   "source": [
    "The funnel is important for tracking where you are getting stuck, and what to improve.  It will allow us to help you identify ways to get further along the funnel.\n",
    "\n",
    "Notice in this past student's funnel that he received almost a double response rate from informal channels, than he did from more formal channels like job sites.  \n",
    "\n",
    "> In fact, his informal channels, did even much better than is displayed in his funnel. "
   ]
  },
  {
   "cell_type": "markdown",
   "id": "3af74780-e17a-448b-a28f-123847d18803",
   "metadata": {},
   "source": [
    "### Networking Resources"
   ]
  },
  {
   "cell_type": "markdown",
   "id": "9581c16e-10e7-4da0-a456-2e1945a52afc",
   "metadata": {},
   "source": [
    "There are **a lot** of resources we provided to you in the networking resources channel.  We'll go into more detail, but for now, just don't panic.  The goal is to settle in on a top five list of high touch channels, as well as some additional online channels to lean on.  The resources are so extensive so that you can choose the ones that best match you.\n",
    "\n",
    "We recommend experimenting at first, and then narrowing in on some of the channels that work best for you, and then becoming essentially \"a regular\" in those communities -- meaning attend multiple events, find ways to the contribute to the community, etc."
   ]
  },
  {
   "cell_type": "markdown",
   "id": "adbbaa17-81d0-46ce-badb-38c2c61dbf23",
   "metadata": {},
   "source": [
    "### Alt Channel Tracker"
   ]
  },
  {
   "cell_type": "markdown",
   "id": "f7c037c7-c8f0-40ae-9b5d-54cfea81db96",
   "metadata": {},
   "source": [
    "Using the networking resources, you can begin to reach out to individuals through the alt channel tracker.  There, you can keep track of the individual you are connecting with, and the result and the message.  \n",
    "\n",
    "We'll help you craft and update the messages over time, so it's important to fill this in."
   ]
  },
  {
   "cell_type": "code",
   "execution_count": null,
   "id": "2edc4c69-baec-4c52-8aac-60629bda252b",
   "metadata": {},
   "outputs": [],
   "source": [
    "### "
   ]
  }
 ],
 "metadata": {
  "kernelspec": {
   "display_name": "Python 3 (ipykernel)",
   "language": "python",
   "name": "python3"
  },
  "language_info": {
   "codemirror_mode": {
    "name": "ipython",
    "version": 3
   },
   "file_extension": ".py",
   "mimetype": "text/x-python",
   "name": "python",
   "nbconvert_exporter": "python",
   "pygments_lexer": "ipython3",
   "version": "3.9.12"
  }
 },
 "nbformat": 4,
 "nbformat_minor": 5
}
