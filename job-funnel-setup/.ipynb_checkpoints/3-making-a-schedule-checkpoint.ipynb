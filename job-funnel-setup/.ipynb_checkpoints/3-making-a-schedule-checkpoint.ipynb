{
 "cells": [
  {
   "cell_type": "markdown",
   "id": "ace1e763-1d4c-4e6c-9fc8-e2f8a1f16055",
   "metadata": {},
   "source": [
    "# Making a schedule"
   ]
  },
  {
   "cell_type": "markdown",
   "id": "740a4413-cd58-49d0-bdc0-e2418c222cc6",
   "metadata": {},
   "source": [
    "### Introduction"
   ]
  },
  {
   "cell_type": "markdown",
   "id": "368ef65e-b20e-4539-a435-2a36bcae13d2",
   "metadata": {},
   "source": [
    "Now that you are in post-graduation classes, it's incumbent upon you to allocate your time properly. "
   ]
  },
  {
   "cell_type": "markdown",
   "id": "96732a28-e372-4612-8779-d904795404fb",
   "metadata": {},
   "source": [
    "### Some general tips"
   ]
  },
  {
   "cell_type": "markdown",
   "id": "db8f5b09-4154-4380-942c-22112fbe8f62",
   "metadata": {},
   "source": [
    "The most important thing is to set a schedule and routine.  \n",
    "\n",
    "Here's a schedule that is not so ideal:\n",
    "\n",
    "* `10 am` Wake up\n",
    "* `11 am` Sit in front of laptop, 11:30 try leetcode\n",
    "* `12:30 - 1:30` lunch\n",
    "* `2 - 3 pm` Scan Linkedin, apply to five jobs\n",
    "* `3 - 4 pm` back to leetcode\n",
    "* `4 pm` done."
   ]
  },
  {
   "cell_type": "markdown",
   "id": "9d32eb37-2fc9-4101-a111-4b161dd15191",
   "metadata": {},
   "source": [
    "Here are some general tips:"
   ]
  },
  {
   "cell_type": "markdown",
   "id": "af0c7c06-067f-45a0-94f1-909de6d02a18",
   "metadata": {},
   "source": [
    "* You want to be doing something productive by 9:30 - 10 am -- so that you have the morning.  \n",
    "* Figure out if you work better at a coffee shop or your apartment. "
   ]
  },
  {
   "cell_type": "markdown",
   "id": "7c72cd47-cc15-4a65-ac67-49eddb2b1814",
   "metadata": {},
   "source": [
    "### Prioritizing your time"
   ]
  },
  {
   "cell_type": "markdown",
   "id": "4c5980ae-fcff-43eb-a7de-a9183f0c3e45",
   "metadata": {},
   "source": [
    "In your weekly planner, consider how many hours you'll have per week.  Let's say you have 30 hours in the next week.  Then write down the ideal percentage of how to spend that time.\n",
    "\n",
    "Here's the baseline that you'll start with for the first couple weeks.\n",
    "\n",
    "1. `25% - 40%` of that time should be spent networking\n",
    "2. `40% - 60%` of that time should be spent improving technical skills\n",
    "3. `~15%` of that time should on technical communication (pramp, reading books, working on your outline/blog posts)\n",
    "4. `0 - ~25%` of time applying via slack"
   ]
  },
  {
   "cell_type": "markdown",
   "id": "6b799c2f-d7c1-4b05-a844-bd2c49e742be",
   "metadata": {},
   "source": [
    "Really for the first couple of weeks, most people should avoid applying all together.  \n",
    "\n",
    "> Notice that we didn't even mention job boards.  You can hold off on this for the first couple of weeks, and then experiment with these later on."
   ]
  },
  {
   "cell_type": "markdown",
   "id": "c9fe4f7e-bb0f-46dd-8604-1578173eb436",
   "metadata": {},
   "source": [
    "So if you had 30 hours, this means that about 6 hours would be spent networking, ~18 hours per week can be spent on performing technical interview prep or improving your education more generally (as well 4 - 6 hours of class time). "
   ]
  },
  {
   "cell_type": "markdown",
   "id": "c5f784b8-42e6-4a17-973f-a7a2213cb6cc",
   "metadata": {},
   "source": [
    "### Scheduling your day"
   ]
  },
  {
   "cell_type": "markdown",
   "id": "85ed4e45-982d-4e0d-bc02-287890d7c9d8",
   "metadata": {},
   "source": [
    "The night before, consider how your week has balanced out so far, and put a couple of blocks in google calendar for the next day based on this.  It's ok if you are a little off balance from week to week, but it's good to have our goal posts.\n",
    "\n",
    "By placing this into the google calendar, you won't have to remember your priorities for the next day.  Just set it, and forget it.\n",
    "\n",
    "> And make sure you set up google calendar alerts (just download it on your phone), so that you do make any important meetings, etc.\n",
    "\n",
    "Towards the end of the day, fill in what you accomplished as well as any components you need to work on."
   ]
  },
  {
   "cell_type": "markdown",
   "id": "0d9cf04a-c59d-4342-8d65-614b84b55488",
   "metadata": {},
   "source": [
    "### Do other things, too"
   ]
  },
  {
   "cell_type": "markdown",
   "id": "eaae9d98-0b2e-4e52-bb5e-d91189beadf9",
   "metadata": {},
   "source": [
    "If you need to, make sure you schedule time to do things that are not job search related.  Treat finding a job like a 9 - 5 job.  Spending ~40 hours on it is enough.  I give you permission.  When you talk and connect with people, you want to be in a good mood, and not overly stressed.  And you can think more clearly by stepping away from things once in a while.  Doing other things is your pallette cleanser, so please make time to do things that you genuinely enjoy that have nothing to do with coding or finding a job."
   ]
  },
  {
   "cell_type": "code",
   "execution_count": null,
   "id": "18a31b1a-0132-4502-bb6d-4f564b0d7e39",
   "metadata": {},
   "outputs": [],
   "source": []
  }
 ],
 "metadata": {
  "kernelspec": {
   "display_name": "Python 3 (ipykernel)",
   "language": "python",
   "name": "python3"
  },
  "language_info": {
   "codemirror_mode": {
    "name": "ipython",
    "version": 3
   },
   "file_extension": ".py",
   "mimetype": "text/x-python",
   "name": "python",
   "nbconvert_exporter": "python",
   "pygments_lexer": "ipython3",
   "version": "3.9.12"
  }
 },
 "nbformat": 4,
 "nbformat_minor": 5
}
