{
 "cells": [
  {
   "cell_type": "markdown",
   "id": "55a9c6e7-d6c3-4b0c-9d4a-6aad9153c585",
   "metadata": {},
   "source": [
    "# Networking and Connecting"
   ]
  },
  {
   "cell_type": "markdown",
   "id": "0a6285bd-12a9-44c2-9431-cedfd6fef898",
   "metadata": {},
   "source": [
    "### Introduction"
   ]
  },
  {
   "cell_type": "markdown",
   "id": "b3909b0d-bbc1-4a92-8de0-b234e0b98471",
   "metadata": {},
   "source": [
    "There are two main avenues for finding positions -- traditional job boards, and through networking with individuals in an existing network or building a new one.\n",
    "\n",
    "Applying through job boards can lead to some prospects.  And we will provide you with some of the more successful ones.\n",
    "\n",
    "Still, speaking to past graduates, experienced career counselors, and even experienced engineers, the consensus is that it is the informal channels that lead to the best opportunities.\n",
    "\n",
    "> And if networking sounds a bit painful, we'll talk through networking services and techniques to make it less so."
   ]
  },
  {
   "cell_type": "markdown",
   "id": "203b5f96-3a49-4836-9489-7b5c7393e13c",
   "metadata": {},
   "source": [
    "### Three perspectives\n",
    "\n",
    "* Dan - Recent Jigsaw Graduate 2022\n",
    "\n",
    "\"At this point, I don't spend too much applying through job boards.  Most have my leads have come through talking to my network, or going to meetups.  For example, if I went to the DBT meetup tomorrow, I'm pretty sure I would get a couple of leads.\"  \n",
    "\n",
    "* Tracy Lum, Four years of experience at time of writing\n",
    "\n",
    "\"As far as applying to companies, from my own experience and based on the advice I've received from coaches, it is practically useless to apply blindly online. Occasionally I do it just to see what'll happen, but I'm never counting on a response from those. For any place I actually want to work at, I get a referral.\"\n",
    "\n",
    "\"Generally, I am not a big fan of networking in the traditional sense...I go to the occasional Meetup, but I have been far more successful just catching up with old colleagues and friends and seeing what they're working on. If you are an introvert like me, maybe the same will work for you.\"\n",
    "\n",
    "> [From surviving software engineering interviews](https://www.tracylum.com/blog/2020-01-29-surviving-software-engineering-interviews/)\n",
    "\n",
    "* Jess Lava - Career Coach Manager\n",
    "\n",
    "\"People still get jobs from *people*.  I put the emphasis on networking and meeting with people.  Students should identify people in the data engineering world for virtual coffees and informational interviews.\""
   ]
  },
  {
   "cell_type": "markdown",
   "id": "c3de2f86-d287-4f34-84be-b396e95b76a8",
   "metadata": {},
   "source": [
    "### But really, why do it?"
   ]
  },
  {
   "cell_type": "markdown",
   "id": "74de4558-fb4d-4851-9665-880238105dc0",
   "metadata": {},
   "source": [
    "Beyond the anecdotes -- let's lay out a few more reasons why we believe in this approach."
   ]
  },
  {
   "cell_type": "markdown",
   "id": "7b9a51c3-b45c-4548-8da8-e7c4eed50c53",
   "metadata": {},
   "source": [
    "1. You're better than you look (to a recruiter)\n",
    "\n",
    "The skills you have learned are *significantly* stronger than that of the average bootcamp graduate.  Unfortunately, it's hard to communicate that in the three seconds a recruiter may give to your resume.  \n",
    "\n",
    "As one recruiter told me, How would *I* know if one engineer is stronger than the other -- I'm not technical?  Recruiters are in  \n",
    "\n",
    "You'll need a few seconds to explain your skills -- and to someone *technical*.  But hiring through the traditional channels, often does not give you that opportunity.\n",
    "\n",
    "2. You'll become a peer\n",
    "\n",
    "Engineers spend their days talking to other engineers.  Their pretty practiced in communicating technically, and by talking to them you'll improve this as well.  It's great prep for an interview -- as it will make you more comfortable talking to engineers, and about your skills.  In these conversations, they will *tell you* what they value about your skills and experience.  And tell you what they like (and don't) about their job.  This is valuable information to bring into an interview. \n",
    "\n",
    "3. It's a valuable skill in itself\n",
    "\n",
    "Networking, and finding your own approach for it is a craft, like anything else.  You do not need to be an extrovert to be good at it, and few are born naturals at it.  But it's enriching -- to meet others who are interested and passionate and willing to steer you in the correct direction. And it will give you flexibility in your career, and the ability to land positions you don't have an obvious background in."
   ]
  },
  {
   "cell_type": "markdown",
   "id": "e6f25fa7-e5bc-4dd1-8bb2-ec058c72ae55",
   "metadata": {},
   "source": [
    "### A personal note\n",
    "\n",
    "\n",
    "As for myself, I have been a marketer, strategy analyst at a startup, corporate attorney, software developer, and teacher.  Not having an experience *in any* of those positions (except maybe law), I gained almost each of those positions through informal channels.\n",
    "\n",
    "Marketer (family friend), (2) strategy analyst (professor introduced me) (3) corporate attorney (career fair) (4) software developer (career fair), teacher (company website - good cover letter)."
   ]
  },
  {
   "cell_type": "markdown",
   "id": "d4aa1087-39e1-4a04-ac42-7154da6410b7",
   "metadata": {},
   "source": [
    "### Resources\n",
    "\n",
    "[Alison Quaglia - Breaking In](https://levelup.gitconnected.com/into-the-unknown-advice-for-breaking-into-the-tech-industry-9ba3ce52645)\n",
    "\n",
    "[Breaking into the NY Tech Community - Vinicius Vacanti](http://viniciusvacanti.com/2010/07/12/how-i-became-a-member-of-the-ny-tech-community/)"
   ]
  },
  {
   "cell_type": "code",
   "execution_count": null,
   "id": "845154e6-8571-440a-9ce1-13e5b5e055d1",
   "metadata": {},
   "outputs": [],
   "source": []
  }
 ],
 "metadata": {
  "kernelspec": {
   "display_name": "Python 3 (ipykernel)",
   "language": "python",
   "name": "python3"
  },
  "language_info": {
   "codemirror_mode": {
    "name": "ipython",
    "version": 3
   },
   "file_extension": ".py",
   "mimetype": "text/x-python",
   "name": "python",
   "nbconvert_exporter": "python",
   "pygments_lexer": "ipython3",
   "version": "3.9.12"
  }
 },
 "nbformat": 4,
 "nbformat_minor": 5
}
