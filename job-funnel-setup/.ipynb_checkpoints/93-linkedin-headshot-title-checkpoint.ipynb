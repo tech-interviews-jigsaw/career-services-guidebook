{
 "cells": [
  {
   "cell_type": "markdown",
   "id": "712ed262-0e1d-442f-9d91-f04e4a103b09",
   "metadata": {},
   "source": [
    "# Linkedin Headshot and Bio"
   ]
  },
  {
   "cell_type": "markdown",
   "id": "40ad9a9a-b348-41ce-a686-225d220d86a3",
   "metadata": {},
   "source": [
    "### Introduction"
   ]
  },
  {
   "cell_type": "markdown",
   "id": "0b61051f-4f92-45a6-83b5-34ff31e5a129",
   "metadata": {},
   "source": [
    "Linkedin is one of the main ways that employers will form an impression of you online.  What you want to communicate in your linkedin profile is that you are a professional that is worth investing in, both for your potential and the services you can currently provide.\n",
    "\n",
    "Remember that hiring an engineer often involves a minimum of $100K annual investment (including overhead/training), so they'll want to hire someone who will be a mature, and positive professional."
   ]
  },
  {
   "cell_type": "markdown",
   "id": "7504d227-8d00-472f-bc86-03af60f54877",
   "metadata": {},
   "source": [
    "### Headshot"
   ]
  },
  {
   "cell_type": "markdown",
   "id": "7aeb24b9-0312-4c7e-b654-726b1a8b71b6",
   "metadata": {},
   "source": [
    "Make sure that you have a headshot, that communicates the above.  An employer's first introduction to you will often be your linkedin page, and they'll be making decisions quickly -- so that's the main thing you want to communicate.  \n",
    "\n",
    "> If your linkedin photo is from your college years, remember that maturity is to your benefit here, so it's to your benefit to update it.\n",
    "\n",
    "You want to reinforce the idea that your a positive professional, who will be able to work in a professional setting.  A tshirt or something more formal is ok -- just no tank top."
   ]
  },
  {
   "cell_type": "markdown",
   "id": "46838132-62b0-4a30-ac75-1bfff68481bb",
   "metadata": {},
   "source": [
    "#### Title and Bio\n",
    "\n",
    "Your title should list yourself as a data engineer (after all, that's what they're looking for), and that's what you are.  Adding a specialization, like Devops, or a domain specialty like healthcare can help you standout.\n",
    "\n",
    "> <img src=\"./healthcare-tech.png\" width=\"30%\">\n"
   ]
  },
  {
   "cell_type": "markdown",
   "id": "ccc97523-a1ec-4ca6-a800-dd3ea5f63481",
   "metadata": {},
   "source": [
    "We recommend having a listing with the domain or technical specialty instead of just listing all three (Data Engineer | Analytics Engineer | Backend Engineer). Listing them is kind of like saying, \"I can do anything\", but really we want you to feel like a particular match to recruiters."
   ]
  },
  {
   "cell_type": "markdown",
   "id": "b3e17e5e-96ee-4e4f-8b1f-1c5040be691f",
   "metadata": {},
   "source": [
    "### The Bio Section\n",
    "\n",
    "Your bio section should talk about your skills and interests.  For example, here this is a good about section. "
   ]
  },
  {
   "cell_type": "markdown",
   "id": "36e3ebfa-f8b7-4225-931e-85b506746e62",
   "metadata": {},
   "source": [
    "<img src=\"./anna-about.png\" width=\"60%\">"
   ]
  },
  {
   "cell_type": "markdown",
   "id": "1a4e709e-88d7-48b8-9356-8bcb8970a0b7",
   "metadata": {},
   "source": [
    "* What makes it good.\n",
    "\n",
    "Remember that the audience is a *hiring manager*.  So having the skillsets up front and then a couple of sentences about what you are looking for is that the hiring manager would need to assess technical and cultural fit."
   ]
  },
  {
   "cell_type": "markdown",
   "id": "38a2a16a-6ed0-4dcc-943d-19c7403ab537",
   "metadata": {},
   "source": [
    "> Perhaps you can have `Experienced` and `Proficient` as categories, instead of Proficient and Familiar."
   ]
  },
  {
   "cell_type": "markdown",
   "id": "215f5cd1-107b-4580-aaa1-07c9e591d2c1",
   "metadata": {},
   "source": [
    "This is another good about section:"
   ]
  },
  {
   "cell_type": "markdown",
   "id": "071e8ddf-1e60-46c1-9386-082292afbdd9",
   "metadata": {},
   "source": [
    "<img src=\"./lei-about.png\" width=\"60%\">"
   ]
  },
  {
   "cell_type": "markdown",
   "id": "10171c83-91a9-4ba1-9867-68b47b78d9ad",
   "metadata": {},
   "source": [
    "This is essentially a summary of the student's linkedin profile.  But it gets to the point right away, highlighting the various experiences."
   ]
  },
  {
   "cell_type": "markdown",
   "id": "efdca090-626a-413c-829a-cd2f96158987",
   "metadata": {},
   "source": [
    "### Skills Checklist"
   ]
  },
  {
   "cell_type": "markdown",
   "id": "dd6959f8-7183-43d5-89f4-96d9fa05312e",
   "metadata": {},
   "source": [
    "\n",
    "The skills section related to each experience is particularly important as recruiters can search for prospective applicants based on their skillset.\n",
    "\n",
    "We've had students be contacted by recruiters just by adding skills and the experiences above before they even started applying for jobs.\n",
    "\n",
    "The skills section is underneath each position's description."
   ]
  },
  {
   "cell_type": "markdown",
   "id": "7409aed7-843d-4e15-9c6a-e9d596100644",
   "metadata": {},
   "source": [
    "<img src=\"./adding-skills.png\" width=\"40%\">"
   ]
  },
  {
   "cell_type": "markdown",
   "id": "e8a72ca2-bb73-4527-9d74-7bac93d978bb",
   "metadata": {},
   "source": [
    "### Example Skills"
   ]
  },
  {
   "cell_type": "markdown",
   "id": "6cc783e5-c989-4678-a0fb-aa843c47b45f",
   "metadata": {},
   "source": [
    "DB Skills\n",
    "\n",
    "* Snowflake\n",
    "* Postgres\n",
    "* Redshift\n",
    "* Pyspark\n",
    "\n",
    "\n",
    "Programming \n",
    "* Python \n",
    "* Flask\n",
    "* MVC\n",
    "* ORM\n",
    "* Pandas\n",
    "* SQLAlchemy\n",
    "\n",
    "Cloud\n",
    "* AWS \n",
    "* CI/CD\n",
    "\n",
    "Orchestration\n",
    "* Airflow\n",
    "* Prefect\n",
    "* DBT\n",
    "* Fivetran ETL"
   ]
  },
  {
   "cell_type": "markdown",
   "id": "a638c637-37dc-457e-ac8c-f8a64992ca12",
   "metadata": {},
   "source": [
    "### Endorsements\n",
    "\n",
    "Linkedin also gives the ability to add endorsements.  Please reach out to people who have worked with you and know you to get their endorsement.  Adding an endorsement -- especially from engineers -- just brings more credibility to your skillset.\n",
    "\n",
    "For endorsements reach out to:\n",
    "\n",
    "* Past employers or coworkers (especially those in technical fields)\n",
    "* Technical coworkers or managers from your internship\n",
    "* Fellow students you worked with (some of whom are engineers)\n",
    "* Instructors (not Jeff, he's not an engineer) but others who are"
   ]
  },
  {
   "cell_type": "markdown",
   "id": "2c3fa2bd-e6fd-4886-af43-a87609034e20",
   "metadata": {},
   "source": [
    "### The Checklist\n",
    "\n",
    "* Add a professional headshot\n",
    "* Add a relevant title and bio\n",
    "* Add relevant skills to each position\n",
    "* Reach out to employers for endorsements"
   ]
  },
  {
   "cell_type": "markdown",
   "id": "d7a8f1b6-0171-4ebb-806f-e89fdc9699c8",
   "metadata": {},
   "source": [
    "When your done, submit your updated profile [here](https://forms.gle/ZBwGzbxu6uWssExV9)."
   ]
  },
  {
   "cell_type": "code",
   "execution_count": null,
   "id": "6d8bc139-033c-4a30-b5c1-df0d27a49188",
   "metadata": {},
   "outputs": [],
   "source": []
  }
 ],
 "metadata": {
  "kernelspec": {
   "display_name": "Python 3 (ipykernel)",
   "language": "python",
   "name": "python3"
  },
  "language_info": {
   "codemirror_mode": {
    "name": "ipython",
    "version": 3
   },
   "file_extension": ".py",
   "mimetype": "text/x-python",
   "name": "python",
   "nbconvert_exporter": "python",
   "pygments_lexer": "ipython3",
   "version": "3.10.14"
  }
 },
 "nbformat": 4,
 "nbformat_minor": 5
}
