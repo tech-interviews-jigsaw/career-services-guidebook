{
 "cells": [
  {
   "cell_type": "markdown",
   "id": "279edd1e-d23b-491f-bcc7-c7ff554a0022",
   "metadata": {},
   "source": [
    "# Linkedin Experience Skills and Education"
   ]
  },
  {
   "cell_type": "markdown",
   "id": "353627a3-052e-4c80-ac13-f1a84de53b2a",
   "metadata": {},
   "source": [
    "### Introduction"
   ]
  },
  {
   "cell_type": "markdown",
   "id": "a2214a9a-781c-4301-bd5f-df71a384c6ff",
   "metadata": {},
   "source": [
    "Your experience, skills and education are essentially the meat of your linkedin profile.  Luckily for you, we can use a lot of what was developed in your resume and then move it over to your linkedin."
   ]
  },
  {
   "cell_type": "markdown",
   "id": "0d9ad9c7-8a6d-44ce-a164-2855eb250fe2",
   "metadata": {},
   "source": [
    "### Experience"
   ]
  },
  {
   "cell_type": "markdown",
   "id": "96479f07-b3ee-400d-9fd3-daa00bf45c1c",
   "metadata": {},
   "source": [
    "Take the positions and experience in your resume and move it to your linkedin.  The descriptions you provided in your resume were written to contribute to someone's understanding of your skills -- so you should include those descriptions here.\n",
    "\n",
    "* Start with your internship experience, and move over the description    \n",
    "* Continue with your past experiences\n",
    "\n",
    "The general idea is that we want employers to see the prospective position as a natural progression from your previous experiences.  \n",
    "\n",
    "Then move over your remaining experiences, and related descriptions.  You likely updated the descriptions of your position in the resume section, and so you should update your descriptions here.  "
   ]
  },
  {
   "cell_type": "markdown",
   "id": "6311272b-33db-4151-b50e-faaee5b20e1b",
   "metadata": {},
   "source": [
    "### Titles, Titles, Titles\n",
    "\n",
    "Your previous title can have a significant impact on getting through the initial recruitment screen.  We'll work with you on listing an appropriate title that is as relevant as possible to your next position.  \n",
    "\n",
    "This means, you do not have to list your official previous title on linkedin. Rather, use a title that communicates your previous experience to technical recruiters and hiring managers.  This means that as much as possible, we want the following words in your title:\n",
    "\n",
    "* Engineer\n",
    "* Data\n",
    "* Analyst"
   ]
  },
  {
   "cell_type": "markdown",
   "id": "d1c1b6db-8d5d-40ec-9b78-28572cc72030",
   "metadata": {},
   "source": [
    "To appreciate this, take a look at what an employer sees on linkedin for a data engineering position."
   ]
  },
  {
   "cell_type": "markdown",
   "id": "3eee2b1b-aaf4-4b75-b829-e9caac04c8b9",
   "metadata": {},
   "source": [
    "> We crossed off the names and faces."
   ]
  },
  {
   "cell_type": "markdown",
   "id": "ae909b6e-e26d-408a-8aed-da5336f623b9",
   "metadata": {},
   "source": [
    "<img src=\"./applicants.png\" width=\"50%\">"
   ]
  },
  {
   "cell_type": "markdown",
   "id": "ebf73e3c-e612-4a66-8c65-30973130f3ad",
   "metadata": {},
   "source": [
    "You can see that the first item an employer sees is a list of experience titles, as well the title you list.  So having a good, and relevant title can make a significant difference on moving you through the funnel."
   ]
  },
  {
   "cell_type": "markdown",
   "id": "95432d40-21c4-4b45-9b6e-a223cc182273",
   "metadata": {},
   "source": [
    "### Your turn"
   ]
  },
  {
   "cell_type": "markdown",
   "id": "b4a52d8b-5b78-4f5a-9c5a-7cd4bb2d932d",
   "metadata": {},
   "source": [
    "Ok, so now it's your turn to update your linkedin.  This means to:\n",
    "\n",
    "1. Add any missing experiences including the your internship with Jigsaw Labs\n",
    "* Call yourself a data engineering consultant\n",
    "\n",
    "2. Move over other relevant experiences from your resume to your linkedin\n",
    "\n",
    "3. Change the title to be as relevant as possible"
   ]
  },
  {
   "cell_type": "markdown",
   "id": "316d7f5c-3d63-4cee-a98e-0c247198d306",
   "metadata": {},
   "source": [
    "When it's complete, send us your linkedin by filling out the form [here](https://docs.google.com/forms/d/e/1FAIpQLScE7hE-8ePd10Y9n4MB9iL1SECvn12j2qWeZu4ugkMi2-pG5Q/viewform)."
   ]
  }
 ],
 "metadata": {
  "kernelspec": {
   "display_name": "Python 3 (ipykernel)",
   "language": "python",
   "name": "python3"
  },
  "language_info": {
   "codemirror_mode": {
    "name": "ipython",
    "version": 3
   },
   "file_extension": ".py",
   "mimetype": "text/x-python",
   "name": "python",
   "nbconvert_exporter": "python",
   "pygments_lexer": "ipython3",
   "version": "3.10.14"
  }
 },
 "nbformat": 4,
 "nbformat_minor": 5
}
