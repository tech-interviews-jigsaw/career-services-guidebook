{
 "cells": [
  {
   "cell_type": "markdown",
   "id": "74cf83a5-79ff-45d6-8751-9152c2691753",
   "metadata": {},
   "source": [
    "# Practicing Leetcode Problems "
   ]
  },
  {
   "cell_type": "markdown",
   "id": "f91405e7-1045-49e3-a76f-bf5a7f2fdd8d",
   "metadata": {},
   "source": [
    "### 1. Tracking your mistakes\n",
    "\n",
    "If you look at the tracker, you'll also see a section for tracking leetcode problems.  You don't have to track every single question here, but do write down each of the problems that you get wrong.\n",
    "\n",
    "This is a classic technique used in studying for standardized tests like the SAT, or the LSAT.  The idea is that while each exam comes with a variety of questions -- really, you'll see a lot of the same questions again and again.  Even more valuable, is that you'll find yourself getting the same kinds of questions *wrong* again and again.\n",
    "\n",
    "So as you work on leetcode problems, record each question that you get wrong.  Then, identify what led you to get the question incorrect, learn that material, and then practice *those questions* at a later time.  You'll notice that you not only are getting the same kinds of problems incorrectly, but for similar reasons each time.  So you'll teach your brain to look out for these traps.  \n",
    "\n",
    "Record the problems in your tracker so that an instructor can also help you coach you through these problems, and help you determine what to review."
   ]
  },
  {
   "cell_type": "markdown",
   "id": "5ce0b9aa-5df4-46ac-a9aa-557d63ae99bf",
   "metadata": {},
   "source": [
    "### 2. Practice Talking out loud\n",
    "\n",
    "Often in interviews they'll ask you to explain your approach.  So it's important that you practice that to.  \n",
    "\n",
    "In doing so:\n",
    "\n",
    "1. Repeat back your understanding of the problem\n",
    "2. Explain your thought process or hypothesis about how to solve the problem\n",
    "3. Then move onto a technical implementation\n",
    "* You can mention (and come back to) any potential edge cases\n",
    "\n",
    "You can use pramp or interviewing.io to practice mock interviewing, or practice with a classmate or instructor."
   ]
  },
  {
   "cell_type": "markdown",
   "id": "2fe30f0d-1de6-4c87-bdae-c89f5d01667e",
   "metadata": {},
   "source": [
    "### Summary"
   ]
  },
  {
   "cell_type": "markdown",
   "id": "77e9b19e-b96b-44eb-b55d-4fe6b703f007",
   "metadata": {},
   "source": [
    "Ok, so we went through a couple different techniques here but the main things are to:\n",
    "    \n",
    "1. Track the problems you solved incorrectly, and then practice those problems\n",
    "2. Practice talking out loud (first starting with the problem solving approach, and then the implementation) "
   ]
  }
 ],
 "metadata": {
  "kernelspec": {
   "display_name": "Python 3 (ipykernel)",
   "language": "python",
   "name": "python3"
  },
  "language_info": {
   "codemirror_mode": {
    "name": "ipython",
    "version": 3
   },
   "file_extension": ".py",
   "mimetype": "text/x-python",
   "name": "python",
   "nbconvert_exporter": "python",
   "pygments_lexer": "ipython3",
   "version": "3.9.12"
  }
 },
 "nbformat": 4,
 "nbformat_minor": 5
}
