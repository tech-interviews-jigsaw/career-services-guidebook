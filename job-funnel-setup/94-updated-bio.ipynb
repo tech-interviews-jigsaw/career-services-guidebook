{
 "cells": [
  {
   "cell_type": "markdown",
   "id": "b09d4772-b9e4-4209-9208-33a0499d2ff9",
   "metadata": {},
   "source": [
    "# An Updated Bio"
   ]
  },
  {
   "cell_type": "markdown",
   "id": "276d36c1-4e32-491a-a9e5-d39894f73a8a",
   "metadata": {},
   "source": [
    "### Introduction"
   ]
  },
  {
   "cell_type": "markdown",
   "id": "9e895aa4-e3a4-4427-9c2b-72d2b583f302",
   "metadata": {},
   "source": [
    "It looks like, when writing the bio for linkedin, more is more.  For this reason, it's worth trying a longer bio where a comprehensive summary of skills and experience is listed."
   ]
  },
  {
   "cell_type": "code",
   "execution_count": null,
   "id": "2a27c672-8cae-4988-ae32-a6727eac545f",
   "metadata": {},
   "outputs": [],
   "source": []
  }
 ],
 "metadata": {
  "kernelspec": {
   "display_name": "Python 3 (ipykernel)",
   "language": "python",
   "name": "python3"
  },
  "language_info": {
   "codemirror_mode": {
    "name": "ipython",
    "version": 3
   },
   "file_extension": ".py",
   "mimetype": "text/x-python",
   "name": "python",
   "nbconvert_exporter": "python",
   "pygments_lexer": "ipython3",
   "version": "3.12.3"
  }
 },
 "nbformat": 4,
 "nbformat_minor": 5
}
