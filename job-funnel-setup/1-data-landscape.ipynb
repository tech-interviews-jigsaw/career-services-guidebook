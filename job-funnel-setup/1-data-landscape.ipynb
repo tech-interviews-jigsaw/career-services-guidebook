{
 "cells": [
  {
   "cell_type": "markdown",
   "id": "cb341bad-a1a2-4fe9-a727-60c68d6b9575",
   "metadata": {},
   "source": [
    "# Understanding the Data Landscape"
   ]
  },
  {
   "cell_type": "markdown",
   "id": "650e7992-ecb1-4a86-a960-4e94f9cc1e9b",
   "metadata": {},
   "source": [
    "### Introduction"
   ]
  },
  {
   "cell_type": "markdown",
   "id": "32ff0e86-04ff-41f3-9cc4-94573b6fe464",
   "metadata": {},
   "source": [
    "In the last lesson, we reviewed our data engineering skills.  But it turns out that this skillset not only qualifies us for data engineering position but a range of positions in the data or engineering world.   "
   ]
  },
  {
   "cell_type": "markdown",
   "id": "c0a132d2-05d4-4e4b-8492-4a65f9a62eda",
   "metadata": {
    "tags": []
   },
   "source": [
    "### A. Which positions"
   ]
  },
  {
   "cell_type": "markdown",
   "id": "f3b6211f-b15f-4037-82d4-a74d8c1d3b1f",
   "metadata": {},
   "source": [
    "With our skillset, we can apply for positions in the following fields:\n",
    "\n",
    "1. Engineering\n",
    "\n",
    "* Python Engineer\n",
    "* Backend Engineer\n",
    "* Fullstack Engineer (Need html + Javascript)\n",
    "\n",
    "2. Data\n",
    "\n",
    "* Data Engineer\n",
    "* Analytics Engineer\n",
    "* Business Intelligence engineer\n",
    "* Data Analyst\n",
    "* Data Scientist\n",
    "\n",
    "3. Cloud\n",
    "\n",
    "* Cloud Engineer\n",
    "* Devops\n",
    "* AWS Engineer"
   ]
  },
  {
   "cell_type": "markdown",
   "id": "0b72dd3f-dfb8-44e8-b744-b96b0df86f23",
   "metadata": {},
   "source": [
    "### B. But why? "
   ]
  },
  {
   "cell_type": "markdown",
   "id": "0a970b4a-a7fd-405f-8415-e2dd423069eb",
   "metadata": {},
   "source": [
    "But why join a data engineering bootcamp, and then pursue other positions.  \n",
    "#### 1. Develop your skills\n",
    "\n",
    "Our primary goal is to put you on a path to develop your Python and SQL skills at a professional level.  This can be performed in a variety of contexts and under various positions.\n",
    "\n",
    "In the positions above, the priority would be on focusing on jobs in the first two sections (under data and engineering) as these are the positions that are most likely to develop Python and SQL skills."
   ]
  },
  {
   "cell_type": "markdown",
   "id": "62c8ce1d-0aa2-4f8b-bf99-88b5e1d04b5b",
   "metadata": {
    "tags": []
   },
   "source": [
    "#### 2. Peek behind the curtain"
   ]
  },
  {
   "cell_type": "markdown",
   "id": "746a0883-bd45-4ad2-8c68-d05b0363b1ef",
   "metadata": {},
   "source": [
    "We shouldn't judge a book by it's cover, the saying goes.  And the same applies to our job titles and descriptions.  While some of the positions may sound less technical, sometimes it really just means a junior data engineer and involves the same skillsets as a data engineer.  Positions like data analyst and data engineering have become more technical over recent years, and may really be essentially a Python and SQL skillset.  That's what we want.\n",
    "\n",
    "Get a job where you get paid to develop, or eventually have an opportunity to develop these skills."
   ]
  },
  {
   "cell_type": "markdown",
   "id": "1e5d80ea-f4e0-4602-a594-2b599ab56945",
   "metadata": {},
   "source": [
    "### C. The data engineering landscape"
   ]
  },
  {
   "cell_type": "markdown",
   "id": "4fb51609-bfe2-47e9-aa12-0f27f08605c5",
   "metadata": {},
   "source": [
    "Ok, so now that we know that we are applicable for a range of positions -- what do these positions typically mean?"
   ]
  },
  {
   "cell_type": "markdown",
   "id": "50a052ff-3697-48be-b3f9-251f10836813",
   "metadata": {},
   "source": [
    "Well, as we just said, they can really vary.  Still, we'll generalize for the time being, beginning with our map of the data world."
   ]
  },
  {
   "cell_type": "markdown",
   "id": "76f0b986-ce95-464a-a857-30ac4b0bb2ad",
   "metadata": {},
   "source": [
    "* Data engineering skills\n",
    "\n",
    "The positions that are more engineering focused are on the left, and those that are more analytics focused are on the right.  Notice that the Python and SQL skills are right in the center -- as they are skills core to each of the positions.\n",
    "\n",
    "Your data engineering skills are encapsulated in the red box.  And you can see that they prepared you for a range of positions.  "
   ]
  },
  {
   "cell_type": "markdown",
   "id": "2961de38-0899-4204-a066-4cd74351af17",
   "metadata": {},
   "source": [
    "<img src=\"./data-eng-analytics.png\" width=\"60%\">"
   ]
  },
  {
   "cell_type": "markdown",
   "id": "5acbcb02-3791-4e8f-971f-60b7c78d0cf2",
   "metadata": {},
   "source": [
    "* Python engineer/Backend Engineering\n",
    "\n",
    "Beginning in the top left, you can see our backend engineering skills of building an API in Flask and the related skills (Python, SQL, Flask, SqlAlchemy, MVC, ETL).  \n",
    "\n",
    "Backend engineering may also ask for devops/cloud skills of Bash, Docker and AWS.\n",
    "\n",
    "The interviews tend to focus on more on Python and Algorithms than the other positions (like data engineer/analytics which has more of a SQL focus)."
   ]
  },
  {
   "cell_type": "markdown",
   "id": "ea648c38-1217-4edf-8f33-7fa7d56f09a0",
   "metadata": {},
   "source": [
    "* Analytics Engineer/Business Intelligence Developer\n",
    "\n",
    "This skillset focuses on the part of the pipeline that takes data in our warehouse and coerces data in DBT with SQL, to ultimately present in a data dashboard.  Because of this the skillset required is more SQL based, and has an emphasis on data visualization.  It's often a very good opportunity for students, as it teaches how to navigate a large codebase in SQL and work with data, and often involves some Python.\n",
    "\n",
    "The interviews tend to be more SQL focused."
   ]
  },
  {
   "cell_type": "markdown",
   "id": "fbbf255a-b188-4d15-9db7-af75bc3a2ffb",
   "metadata": {},
   "source": [
    "* Data Analyst\n",
    "\n",
    "This is typically similar to an analytics engineer -- but can mean a range of things depending on the company.  Traditionally it involves a mix of SQL, Python, Pandas and data exploration and data storytelling skills.  Typically the interviews are more SQL focused.\n",
    "\n",
    "* Data Engineering \n",
    "\n",
    "We covered data engineering in the previous lesson, but you can see that it is an aggregate of the above skills, but also involving data pipelines.  The interviews tend to be a little more SQL based than Python based.\n",
    "\n",
    "Some data engineering positions will ask for Pyspark, which can be viewed on the [free courses page](https://www.jigsawlabs.io/free-data-engineering-course)."
   ]
  },
  {
   "cell_type": "markdown",
   "id": "8195b27c-bb0e-47dd-a4b6-743509a161c3",
   "metadata": {},
   "source": [
    "### Beyond the red bubble"
   ]
  },
  {
   "cell_type": "markdown",
   "id": "4126a47a-2173-4265-9844-3c498483af7b",
   "metadata": {},
   "source": [
    "Let's take another look at our diagram."
   ]
  },
  {
   "cell_type": "markdown",
   "id": "1edfa5b2-a7ed-4c2a-8f75-3510466b03a1",
   "metadata": {},
   "source": [
    "<img src=\"./data-eng-analytics.png\" width=\"60%\">"
   ]
  },
  {
   "cell_type": "markdown",
   "id": "52548d32-aaa4-4643-923b-c37cc768f639",
   "metadata": {},
   "source": [
    "* Data Scientist\n",
    "\n",
    "Data science involves the Python, SQL, Pandas, data analysis skills, as well as knowledge of machine learning models like linear regression, tree based models (random forests/XGBoost), and NLP.  \n",
    "\n",
    "We can see that we are pretty close to a data scientist position -- and in fact some of our graduates have landed data science positions.  If you would like to explore this, you can start with the Intro to ML coursework on the Jigsaw Labs [free courses page](https://www.jigsawlabs.io/free-data-engineering-course)."
   ]
  },
  {
   "cell_type": "markdown",
   "id": "fe5570c4-2bb8-4c6e-89ab-7959c399353b",
   "metadata": {},
   "source": [
    "* Machine Learning Engineer\n",
    "\n",
    "A machine learning engineer (MLE) is often asked to be more technical than a data scientist, and can be asked to build data pipelines like a data engineer.  The difference is that instead of feeding this data into a database, it can first be passed into a machine learning model that will predict and outcome and send that prediction back to the user through an backend Flask API."
   ]
  },
  {
   "cell_type": "markdown",
   "id": "2b41a714-2867-4d89-b468-2460685ae50d",
   "metadata": {},
   "source": [
    "* MLOps Engineer\n",
    "\n",
    "An MLOps engineer often has knowledge a machine learning, but has a main focus of maintaining pipelines, and managing machine learning models.  A machine learning engineer may try out various versions of a machine learning model, and will want a way to store these models, which MLflow can help with.  We'll want a way to store and coerce the features that are useful in making these predictions, and we'll want to make sure that our model is still relevant as the world arounds us changes (requiring monitoring), as well as that our model is up and running and meets any latency requirements.  \n",
    "\n",
    "> An ML engineer likely is familiar with all of the ops mentioned above, but it won't be his day to day focus as it would be with a with an MLOps engineer.  And a MLOps engineer would likely know the fundamentals of ML, but the MLOps engineer's main job is to keep the pipeline running, and build the infrastructure for an ML engineer."
   ]
  },
  {
   "cell_type": "markdown",
   "id": "c85368fc-6b80-40bd-81dd-46114f10c89f",
   "metadata": {},
   "source": [
    "### Summary"
   ]
  },
  {
   "cell_type": "markdown",
   "id": "99425ca2-9907-40c1-bb00-71206ec1aa0c",
   "metadata": {},
   "source": [
    "In this lesson, we moved through the data landscape."
   ]
  },
  {
   "cell_type": "markdown",
   "id": "86690266-6c01-4292-91be-692849a63d38",
   "metadata": {},
   "source": [
    "<img src=\"./data-eng-analytics.png\" width=\"60%\">"
   ]
  },
  {
   "cell_type": "markdown",
   "id": "d1345900-88da-42c5-b1e7-53dc5123840f",
   "metadata": {},
   "source": [
    "It may be useful to draw your own sketch of the above, as a way to confirm your understanding in the landscape."
   ]
  }
 ],
 "metadata": {
  "kernelspec": {
   "display_name": "Python 3 (ipykernel)",
   "language": "python",
   "name": "python3"
  },
  "language_info": {
   "codemirror_mode": {
    "name": "ipython",
    "version": 3
   },
   "file_extension": ".py",
   "mimetype": "text/x-python",
   "name": "python",
   "nbconvert_exporter": "python",
   "pygments_lexer": "ipython3",
   "version": "3.9.12"
  }
 },
 "nbformat": 4,
 "nbformat_minor": 5
}
