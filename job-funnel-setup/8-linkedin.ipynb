{
 "cells": [
  {
   "cell_type": "markdown",
   "id": "712ed262-0e1d-442f-9d91-f04e4a103b09",
   "metadata": {},
   "source": [
    "# Prepare your linkedin"
   ]
  },
  {
   "cell_type": "markdown",
   "id": "40ad9a9a-b348-41ce-a686-225d220d86a3",
   "metadata": {},
   "source": [
    "### Introduction"
   ]
  },
  {
   "cell_type": "markdown",
   "id": "0b61051f-4f92-45a6-83b5-34ff31e5a129",
   "metadata": {},
   "source": [
    "Linkedin is one of the main ways that employers will form an impression of you online.  What you want to communicate in your linkedin profile is that you are a professional that is worth investing in, both for your potential and the services you can currently provide.\n",
    "\n",
    "Remember that hiring an engineer often involves a minimum of $100K annual investment (including overhead/training), so they'll want to hire someone who will be a mature, and positive professional."
   ]
  },
  {
   "cell_type": "markdown",
   "id": "7504d227-8d00-472f-bc86-03af60f54877",
   "metadata": {},
   "source": [
    "### Headshot"
   ]
  },
  {
   "cell_type": "markdown",
   "id": "7aeb24b9-0312-4c7e-b654-726b1a8b71b6",
   "metadata": {},
   "source": [
    "Make sure that you have a headshot, that communicates the above.  An employer's first introduction to you will often be your linkedin page, and they'll be making decisions quickly -- so that's the main thing you want to communicate.  \n",
    "\n",
    "> If your linkedin photo is from your college years, remember that maturity is to your benefit here, so it's to your benefit to update it.\n",
    "\n",
    "You want to reinforce the idea that your a positive professional, who will be able to work in a professional setting.  A tshirt or something more formal is ok -- just no tank top."
   ]
  },
  {
   "cell_type": "markdown",
   "id": "46838132-62b0-4a30-ac75-1bfff68481bb",
   "metadata": {},
   "source": [
    "#### Title and Bio\n",
    "\n",
    "Your title should list you as a data engineer (after all, that's what they're looking for), and that's what you are.\n",
    "\n",
    "Feel free to add a bio section which can talk about your interest and background in engineering and related skills. "
   ]
  },
  {
   "cell_type": "markdown",
   "id": "7719f83b-d366-49c1-9e0e-516bd37c6ca5",
   "metadata": {},
   "source": [
    "## Experience, skills, and education"
   ]
  },
  {
   "cell_type": "markdown",
   "id": "9d341e09-8454-425c-9964-0472d4cac0be",
   "metadata": {},
   "source": [
    "Take the positions and experience in your resume and move it to your linkedin.  The descriptions you provided in your resume were written to contribute to someone's understanding of your skills -- so you should include those descriptions here.\n",
    "\n",
    "* Start with your internship experience, and move over the description    \n",
    "* Then add the Jigsaw Labs experience, with a title of Data Engineering Fellow.\n",
    "\n",
    "The general idea is that we want employers to see the prospective position as a natural progression from your previous experiences.  So by including the internship and Jigsaw Labs course, we show two immediately related experiences.\n",
    "\n",
    "Then move over your remaining experiences, and related descriptions.  You likely updated the descriptions of your position in the resume section, and so you should update your descriptions here.  \n",
    "\n",
    "#### Skills\n",
    "\n",
    "The skills section related to each experience is particularly important as recruiters can search for prospective applicants based on their skillset.  \n",
    "\n",
    "> We've had students be contacted by recruiters just by adding skills and the experiences above before they even started applying for jobs. \n",
    "\n",
    "The skills section is underneath each position's description.\n",
    "\n",
    "> <img src=\"./adding-skills.png\" width=\"60%\">\n",
    "\n",
    "\n",
    "\n"
   ]
  },
  {
   "cell_type": "markdown",
   "id": "dfd2017c-a2b9-4596-abfb-e34781f6c5e7",
   "metadata": {},
   "source": [
    "Add as many skills as are relevant and that linkedin allows you to.  Some students have added 50+ skills -- although you may max out before that based on your linkedin subscription.  Look at all of the skills that are already listed in your resume, and move them here."
   ]
  },
  {
   "cell_type": "markdown",
   "id": "0b3bcf7a-daac-461b-a26f-c3eb128f3b28",
   "metadata": {},
   "source": [
    "* Education\n",
    "\n",
    "Take a look at the education section, and make sure it is up to date.  Be sure to add any relevant honors or coursework."
   ]
  },
  {
   "cell_type": "markdown",
   "id": "a96ab311-e886-4fd2-a834-a6b0d4701fe7",
   "metadata": {},
   "source": [
    "### Endorsements\n",
    "\n",
    "Linkedin also gives the ability to add endorsements.  It may be worth reaching out to people who have worked with you and know you to get their endorsement. "
   ]
  },
  {
   "cell_type": "markdown",
   "id": "7b8a9e07-8554-47f5-b793-e5717b93fb7d",
   "metadata": {
    "jp-MarkdownHeadingCollapsed": true,
    "tags": []
   },
   "source": [
    "### Summary\n",
    "\n",
    "Here's a checklist of what you want to do to prepare your linkedin profile.\n",
    "\n",
    "1. Add a headshot indicating professionalism\n",
    "2. Update the title to say data engineer\n",
    "3. Under experience:\n",
    "    * Add internship experience\n",
    "    * Add Jigsaw Labs \n",
    "    * Update other experiences to align with resume\n",
    "    * Add related skills for each position"
   ]
  }
 ],
 "metadata": {
  "kernelspec": {
   "display_name": "Python 3 (ipykernel)",
   "language": "python",
   "name": "python3"
  },
  "language_info": {
   "codemirror_mode": {
    "name": "ipython",
    "version": 3
   },
   "file_extension": ".py",
   "mimetype": "text/x-python",
   "name": "python",
   "nbconvert_exporter": "python",
   "pygments_lexer": "ipython3",
   "version": "3.9.12"
  }
 },
 "nbformat": 4,
 "nbformat_minor": 5
}
