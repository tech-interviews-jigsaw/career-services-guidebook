{
 "cells": [
  {
   "cell_type": "markdown",
   "id": "98e6f381-2c70-4f64-8aab-3055e9812d8b",
   "metadata": {},
   "source": [
    "# Writing the Message"
   ]
  },
  {
   "cell_type": "markdown",
   "id": "c6b20b8d-d139-4336-89dc-7399e29175b5",
   "metadata": {},
   "source": [
    "### Introduction"
   ]
  },
  {
   "cell_type": "markdown",
   "id": "f25c1482-41e7-45d1-8af2-db5f5964da92",
   "metadata": {},
   "source": [
    "<img src=\"./library-for-all.png\" width=\"60%\">"
   ]
  },
  {
   "cell_type": "markdown",
   "id": "ca87da9c-c927-498f-98b6-6968288c4fba",
   "metadata": {},
   "source": [
    "<img src=\"./intern?.png\" width=\"60%\">"
   ]
  }
 ],
 "metadata": {
  "kernelspec": {
   "display_name": "Python 3 (ipykernel)",
   "language": "python",
   "name": "python3"
  },
  "language_info": {
   "codemirror_mode": {
    "name": "ipython",
    "version": 3
   },
   "file_extension": ".py",
   "mimetype": "text/x-python",
   "name": "python",
   "nbconvert_exporter": "python",
   "pygments_lexer": "ipython3",
   "version": "3.9.12"
  }
 },
 "nbformat": 4,
 "nbformat_minor": 5
}
