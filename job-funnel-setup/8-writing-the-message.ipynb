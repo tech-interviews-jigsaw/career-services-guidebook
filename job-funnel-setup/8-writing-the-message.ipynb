{
 "cells": [
  {
   "cell_type": "markdown",
   "id": "98e6f381-2c70-4f64-8aab-3055e9812d8b",
   "metadata": {},
   "source": [
    "# Writing the Message"
   ]
  },
  {
   "cell_type": "markdown",
   "id": "c6b20b8d-d139-4336-89dc-7399e29175b5",
   "metadata": {
    "tags": []
   },
   "source": [
    "### Introduction"
   ]
  },
  {
   "cell_type": "markdown",
   "id": "caa7afe1-6287-461d-ba90-479b95de5e6e",
   "metadata": {},
   "source": [
    "Ok, so cold linkedin messages and slack messages can be a very good use of your time.  And you will want to send these along both for (1) networking, (2) to accompany a job application.\n",
    "\n",
    "But if you don't do it right, it will come off as spam -- and no one likes that.  So whenever sending a message along do the following:\n",
    "\n",
    "* Find what is unique about the job/person and explain how that aligns with your own unique skills/interests.\n",
    "\n",
    "So what you write should not just apply to any old data engineering role.  You need to explain, why this particular role.  \n",
    "\n",
    "This aligns with our *genuine enthusiasm* theme from the beginning."
   ]
  },
  {
   "cell_type": "markdown",
   "id": "b125ecef-c0fb-44b0-bd46-f919a6f6db29",
   "metadata": {},
   "source": [
    "### The problem"
   ]
  },
  {
   "cell_type": "markdown",
   "id": "cbe33d7e-81b5-4ecc-9923-655c59d1c2ee",
   "metadata": {},
   "source": [
    "When I post a position looking for a new instructor, I'll get upwards of 100 applications in a matter of hours.  But many are from those who have never read the position description.    \n",
    "\n",
    "So it is valuable to get a message explaining why someone is *actually* interested.\n",
    "\n",
    "But instead, when applicants do reach out it looks like this."
   ]
  },
  {
   "cell_type": "markdown",
   "id": "a89ce8d6-67cb-4287-a1e6-00bc40510958",
   "metadata": {},
   "source": [
    "<img src=\"./spam.png\" width=\"30%\">"
   ]
  },
  {
   "cell_type": "markdown",
   "id": "4f81e4f6-0222-4eb7-a8e4-9d7f0526401a",
   "metadata": {},
   "source": [
    "These applicants may not know it, but their message feels like spam.  Please don't spam your potential employers.  It's not a good strategy."
   ]
  },
  {
   "cell_type": "markdown",
   "id": "fa265f39-d56d-4ef2-928a-8eee01fbc142",
   "metadata": {},
   "source": [
    "### A better message - A cold reachout"
   ]
  },
  {
   "cell_type": "markdown",
   "id": "7d46eba7-bd41-4dfc-b8f1-ccff1deae6b1",
   "metadata": {},
   "source": [
    "Ok, so let's see better message, and one that was kind of successful.  The following is an email I sent shortly after graduating from a coding bootcamp myself. Looking back on it, it's not so bad."
   ]
  },
  {
   "cell_type": "markdown",
   "id": "f25c1482-41e7-45d1-8af2-db5f5964da92",
   "metadata": {},
   "source": [
    "<img src=\"./library-for-all.png\" width=\"60%\">"
   ]
  },
  {
   "cell_type": "markdown",
   "id": "c4a5dc91-eabe-4713-bbd1-9227cbd8b174",
   "metadata": {},
   "source": [
    "The last sentence is probably the best one -- I explained that this is a *very rare* find for me, so I'm not emailing just anyone.  And it's rare because of both aligning interests and geography -- and I showed proof of this with my prior work and coding project."
   ]
  },
  {
   "cell_type": "markdown",
   "id": "05586d62-40f4-42d1-904e-f5ba4d8e83ad",
   "metadata": {},
   "source": [
    "### A Job Reachout"
   ]
  },
  {
   "cell_type": "markdown",
   "id": "77c20df9-67a7-4be4-a1be-30ace6981aa2",
   "metadata": {},
   "source": [
    "Of course, when applying for a job, it's also important to accompany the application with a message to the hiring manager -- either on linkedin or slack.  \n",
    "\n",
    "When doing so, the same advice applies.  Consider the *unique ask* of the company, and then find the similar skillset in yourself.  Again this is what it means to be genuinely enthusiastic about the role, it's not just any data role, but one that matches your interests.\n",
    "\n",
    "For example, let's look at the following job posting on slack."
   ]
  },
  {
   "cell_type": "markdown",
   "id": "e7098be6-3cff-483a-892d-4e25985155db",
   "metadata": {},
   "source": [
    "> <img src=\"./cyber-position.png\" width=\"60%\">"
   ]
  },
  {
   "cell_type": "markdown",
   "id": "163501b6-dbc3-45bb-805a-bea9a95bc13a",
   "metadata": {},
   "source": [
    "Ok, so what is this position asking for?  Well they are looking for someone who is not just a strong engineer, but can think critically about the problem at hand a provide a solution.  This is what they mean by \"pragmatic and commercially minded\".  And the skillsets indicate someone who can go from end to end in a pipeline (with Python, Snowflake, DBT, and Streamlit) to data storytelling with streamlit.\n",
    "\n",
    "This might be a message to send to the hiring manager.\n",
    "\n",
    "> Hi Morgan, \n",
    "\n",
    "> I wanted to reach out as the position you posted, is a nice match for the kind of position I'm looking for.  I recently developed an end to end pipeline to dashboard using a similar stack (Snowflake, DBT, Flask, Streamlit), and love finding ways of building pipelines that lead to action oriented insights.  I'm attaching my resume below for more info, let me know if you'd like to chat further. "
   ]
  },
  {
   "cell_type": "markdown",
   "id": "35f4cbd4-1cdf-4986-83c3-e34e5b1c3732",
   "metadata": {},
   "source": [
    "Ok, so notice that the message above is clearly not spam.  Instead (1) I'm very specific about aligning my skills to those requested and (2) I'm showing that I thrive in an environment that asks for similar soft skills."
   ]
  },
  {
   "cell_type": "markdown",
   "id": "6eddbd91-470d-4ac1-87b2-3c7ce10109e1",
   "metadata": {},
   "source": [
    "* Another example"
   ]
  },
  {
   "cell_type": "markdown",
   "id": "24b8dbbe-0229-4b46-80ee-ca3867d13d0c",
   "metadata": {},
   "source": [
    "For example, here's a good reply to a posting I put out for an instructor position."
   ]
  },
  {
   "cell_type": "markdown",
   "id": "434b271a-bad9-406c-92c2-25c940a088ec",
   "metadata": {},
   "source": [
    "<img src=\"./sample-email.png\" width=\"60%\">"
   ]
  },
  {
   "cell_type": "markdown",
   "id": "75bedc3e-c6a6-45df-9c18-924e1f1fc263",
   "metadata": {},
   "source": [
    "Of course I replied.  "
   ]
  },
  {
   "cell_type": "markdown",
   "id": "d9610050-7848-4b35-b018-60f79de006e6",
   "metadata": {},
   "source": [
    "* Reaching out via slack"
   ]
  },
  {
   "cell_type": "markdown",
   "id": "c72655eb-a113-46c4-b363-a6cb2ccb2970",
   "metadata": {},
   "source": [
    "This same logic applies when sending a message on slack.  Keep it relatively brief, but sincere.  Explain why you are a fit."
   ]
  },
  {
   "cell_type": "markdown",
   "id": "c3199160-0ce0-412b-a069-705a07d5c757",
   "metadata": {},
   "source": [
    "<img src=\"./slack-reachout.png\">"
   ]
  },
  {
   "cell_type": "markdown",
   "id": "fd896475-326f-4f26-afcd-eabc18c1bb9c",
   "metadata": {},
   "source": [
    "> So above, Wayne explains he's a *nontraditional* techy, a former educator, which gets to the point that he not only has the tech skills but the communication skills as well.  The job is tech-plus, and the message emphasizes that background.\n",
    "\n",
    "On slack, the hiring manager will similarly get many DMs.  If you don't explain why you are a fit, it will just feel like spam to them."
   ]
  },
  {
   "cell_type": "markdown",
   "id": "e4320758-12e5-4d52-bcfc-3f82e2d8e3b6",
   "metadata": {},
   "source": [
    "* Go further\n",
    "\n",
    "If you can't get that match from the job description, look at the company's website, see if they have a github, or look at the linkedin of their employees.  Use this information to take a guess as to the kinds of problems data engineers at the company are asked to solve.  Then explain how you would be interested in solving them. "
   ]
  },
  {
   "cell_type": "markdown",
   "id": "0f61155b-2d6a-4275-a68f-710df0f7a07f",
   "metadata": {},
   "source": [
    "As someone who has posted job positions, and received many replies, I can tell you that only about 1 in 10 will send a specific message like this."
   ]
  },
  {
   "cell_type": "markdown",
   "id": "82af728d-d740-49d4-8330-48d55eb157b8",
   "metadata": {},
   "source": [
    "### A Connection Reachout\n",
    "\n",
    "What if you did meet someone on in person, and want to try to use that connection for a referral?  The following is a good message.  "
   ]
  },
  {
   "cell_type": "markdown",
   "id": "26dee140-ea9a-4a58-b9e3-9dce8b8804a4",
   "metadata": {},
   "source": [
    "> <img src=\"./connection-reachout.png\" width=\"60%\">"
   ]
  },
  {
   "cell_type": "markdown",
   "id": "b45fdcfe-eded-4f04-bc3c-ff4b892e389b",
   "metadata": {},
   "source": [
    "Or maybe you found an alumni who works there?  Here's another message you can send."
   ]
  },
  {
   "cell_type": "markdown",
   "id": "4167b5d9-0355-4f55-8c42-26952ab839a6",
   "metadata": {},
   "source": [
    "<img src=\"./another-reachout.png\">"
   ]
  },
  {
   "cell_type": "markdown",
   "id": "ec478c54-ef52-41b0-8474-2906a7b3bba3",
   "metadata": {},
   "source": [
    "In both cases, the contact responded and offered to help."
   ]
  },
  {
   "cell_type": "markdown",
   "id": "c96c61a2-bbf1-45df-ae0d-fe9b6fbef5ec",
   "metadata": {},
   "source": [
    "### A youtube/blog reachout"
   ]
  },
  {
   "cell_type": "markdown",
   "id": "5518369f-b1fb-43ec-a5cb-2a24b393d73b",
   "metadata": {},
   "source": [
    "Did you attend a talk, read a blog, or watch a youtube video of someone online.  Send a genuine thank you message to them.  After the author accepts, you can send a follow up asking for some advice -- especially if the subject of the article aligns with your particular interest.\n",
    "\n",
    "Just ask about learning more on the subject, or advice on breaking into the author's particular specialty.  \n",
    "\n",
    "> **Note**: Be specific.  Asking to break into data engineering is not specific enough.  But advice about data engineering focused on the cloud is getting there, if that's your interest."
   ]
  },
  {
   "cell_type": "markdown",
   "id": "30cd5d06-b4e0-4d5e-a44d-9cf06a2dc290",
   "metadata": {},
   "source": [
    "### Summary"
   ]
  },
  {
   "cell_type": "markdown",
   "id": "8d43cb44-c580-41cd-9c36-d2df1c0a00a0",
   "metadata": {},
   "source": [
    "In this lesson, we discussed how to write a good message.  Find what is particular about the job description, and explain how it matches your background or skills.  If it's hard to find this in the job description, find it in the company's website, github, or linkedin profiles of their engineers.  \n",
    "\n",
    "This is a successful for strategy for cold emails (explain why them), job follow ups, or blog posts/youtube videos (just say that you liked it, then follow up later with some advice that the author can particularly answer).  "
   ]
  }
 ],
 "metadata": {
  "kernelspec": {
   "display_name": "Python 3 (ipykernel)",
   "language": "python",
   "name": "python3"
  },
  "language_info": {
   "codemirror_mode": {
    "name": "ipython",
    "version": 3
   },
   "file_extension": ".py",
   "mimetype": "text/x-python",
   "name": "python",
   "nbconvert_exporter": "python",
   "pygments_lexer": "ipython3",
   "version": "3.12.3"
  }
 },
 "nbformat": 4,
 "nbformat_minor": 5
}
