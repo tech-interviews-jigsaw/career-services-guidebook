{
 "cells": [
  {
   "cell_type": "markdown",
   "id": "488b1732-ecc4-4b8c-87fb-08c63dc5f97b",
   "metadata": {},
   "source": [
    "# Introducing Your Career Tracker"
   ]
  },
  {
   "cell_type": "markdown",
   "id": "f3df2c37-a127-4d8d-87ea-57a8bfb9ced2",
   "metadata": {},
   "source": [
    "### Introduction"
   ]
  },
  {
   "cell_type": "markdown",
   "id": "6943e737-24f8-4a37-8afb-f30feb966a64",
   "metadata": {},
   "source": [
    "In general, you'll want to:\n",
    "\n",
    "1. Network through informal channels\n",
    "2. Continue your education as an engineer (focus on interview prep)\n",
    "3. Apply through informal channels\n",
    "\n",
    "And really, we'll ask you to primarily focus on those first two steps.  \n",
    "\n",
    "Still, it's difficult to manage and remember all of the components to an effective career search.  So we built a career tracker to help."
   ]
  },
  {
   "cell_type": "markdown",
   "id": "c07e3f25-ae81-42f3-882b-0d64f99b6c99",
   "metadata": {},
   "source": [
    "### Getting started"
   ]
  },
  {
   "cell_type": "markdown",
   "id": "18acf81f-769d-4c95-b5df-4eb91c6552fb",
   "metadata": {},
   "source": [
    "To begin take the [tracker](https://docs.google.com/spreadsheets/d/17HynqrkQHbbt2b3laz0amUG5EiaLJ0sBK-XF3mQwBEQ/), make a copy of it and then update the title to replace \"Lisa Simpson\" with your name.\n",
    "\n",
    "Next, click the share button in the top right, and share the tracker with Jeff (jeff@jigsawlabs.io) and Wayne, and Micah (emails to be provided).\n",
    "\n",
    "Also create a google drive folder called jigsaw-career-tracker and share this folder with Jeff, Micah and Wayne.  This is where you'll store some notes that don't make sense for a spreadsheet.\n",
    "\n",
    "Ok, now let's take a little tour."
   ]
  },
  {
   "cell_type": "markdown",
   "id": "3af74780-e17a-448b-a28f-123847d18803",
   "metadata": {},
   "source": [
    "### 1. Networking "
   ]
  },
  {
   "cell_type": "markdown",
   "id": "e3dabf55-afc9-44af-9969-4bfc3e12fb06",
   "metadata": {},
   "source": [
    "1. Networking Resources"
   ]
  },
  {
   "cell_type": "markdown",
   "id": "9581c16e-10e7-4da0-a456-2e1945a52afc",
   "metadata": {},
   "source": [
    "There are **a lot** of resources we provided to you in the networking resources channel.  We'll go into more detail, but for now, just remain calm.  We made the resources so extensive so that you can find the ones that best match you.\n",
    "\n",
    "Our goal is to settle in on a top five list of high touch channels, as well as some additional online channels to lean on. "
   ]
  },
  {
   "cell_type": "markdown",
   "id": "adbbaa17-81d0-46ce-badb-38c2c61dbf23",
   "metadata": {},
   "source": [
    "2. Networking Tracker"
   ]
  },
  {
   "cell_type": "markdown",
   "id": "c6acd751-7690-47ea-bbb3-041bcac8bb03",
   "metadata": {},
   "source": [
    "<img src=\"./network-tracker.png\" width=\"90%\">"
   ]
  },
  {
   "cell_type": "markdown",
   "id": "f7c037c7-c8f0-40ae-9b5d-54cfea81db96",
   "metadata": {},
   "source": [
    "Using the networking resources, you can begin to reach out to individuals through the networking tracker.  There, you can keep track of the individual you are connecting with, and the result and the message.  \n",
    "\n",
    "We'll help you craft and update the messages over time, so it's important to fill this column in, so you can adjust your strategy for connecting with individuals."
   ]
  },
  {
   "cell_type": "markdown",
   "id": "b358273c-4d5e-40bc-b68f-56158aff8c6e",
   "metadata": {},
   "source": [
    "### 2. Education\n",
    "\n",
    "1. Education Resources"
   ]
  },
  {
   "cell_type": "markdown",
   "id": "9431a226-b0fc-4f47-b0a4-ec4bb8d9feb0",
   "metadata": {},
   "source": [
    "If networking is the first task to your handle on, the second is the education component.  \n",
    "\n",
    "In addition to reviewing course content, it's important for you to prepare for technical interviews.  The majority of the interviews that we see are leetcode style interviews, slightly more SQL focused than Python focused. \n",
    "\n",
    "You can see our list of recommended resources under that page.  You can feel free to add to these as you continue your journey."
   ]
  },
  {
   "cell_type": "markdown",
   "id": "fdbca170-01ba-412f-bd21-f49553953bb0",
   "metadata": {},
   "source": [
    "### Weekly Goals\n",
    "\n",
    "Finally, you can see weekly goals, with some initial steps already populated.  While we set some initial steps, a lot of these will be driven by yourself.  \n",
    "\n",
    "It's a good way to set priorities, as well as reasonable expectations for yourself.  If you find yourself missing your weekly goals, or overtaxed by them, it may be consider how to either spend your time more wisely or scale back your goals per week.\n",
    "\n",
    "It's our job to help you be accountable for them, so have a spot for you to upload a screenshot of you achieving them where possible, and then uploading that to your jigsaw-career-tracker folder, and then linking to the relevant file.\n",
    "\n",
    "You'll be meeting with an instructor individually every two of weeks to help you navigate your progress, and the first thing the instructor will do is open up your tracker, so please keep it up to date. "
   ]
  },
  {
   "cell_type": "markdown",
   "id": "07f90b0b-c8a2-4611-b9aa-7f0adf66263c",
   "metadata": {},
   "source": [
    "### Summary"
   ]
  },
  {
   "cell_type": "markdown",
   "id": "4c16e9a3-348d-4688-9213-2d82f7dd6be0",
   "metadata": {},
   "source": [
    "In this lesson, we introduced the career tracker, and some initial priorities in your career search.  For now, there are two initial priorities (1) beginning to network and (2) moving towards technical interview prep.  "
   ]
  }
 ],
 "metadata": {
  "kernelspec": {
   "display_name": "Python 3 (ipykernel)",
   "language": "python",
   "name": "python3"
  },
  "language_info": {
   "codemirror_mode": {
    "name": "ipython",
    "version": 3
   },
   "file_extension": ".py",
   "mimetype": "text/x-python",
   "name": "python",
   "nbconvert_exporter": "python",
   "pygments_lexer": "ipython3",
   "version": "3.9.12"
  }
 },
 "nbformat": 4,
 "nbformat_minor": 5
}
