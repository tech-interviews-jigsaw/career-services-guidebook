{
 "cells": [
  {
   "cell_type": "markdown",
   "id": "478d57de-b97f-4a86-82c6-45b6b357adb6",
   "metadata": {},
   "source": [
    "# Prepping your resume"
   ]
  },
  {
   "cell_type": "markdown",
   "id": "c8f3e643-8a37-4eed-bda4-2d10356bc5e7",
   "metadata": {},
   "source": [
    "### Introduction"
   ]
  },
  {
   "cell_type": "markdown",
   "id": "e3374937-e766-4031-ac52-5ddd651142f2",
   "metadata": {},
   "source": [
    "In this lesson, we'll talk about preparing your resume -- but also about communicating your past experiences more generally."
   ]
  },
  {
   "cell_type": "markdown",
   "id": "6d5015a4-c99a-4360-b937-6140a5115b71",
   "metadata": {},
   "source": [
    "### General guidelines"
   ]
  },
  {
   "cell_type": "markdown",
   "id": "312675e2-edec-49bb-ad52-b3802a722754",
   "metadata": {},
   "source": [
    "When creating a resume, we want to tell the potential what employer what they are getting.  When they purchase your services, what are they buying.  \n",
    "\n",
    "* To that end, we keep the resume to **one page** because any more will muddle the message of what you have to offer.  \n",
    "\n",
    "To ensure the resume is focused on an offering, imagine the employer is ask the question **\"so what?\"** after each bullet point (or sometimes word) in your resume.  If it's irrelevant to a potential employer, consider eliminating it.\n",
    "\n",
    "Finally, before we dive in, when submitting your resume, make sure it is in *pdf format*.  Not only is it more professional, on a lot of job sites (including linkedin) it will be easier for employers to view.  And when employers quickly move through resumes this matters a lot. "
   ]
  },
  {
   "cell_type": "markdown",
   "id": "3879e952-2283-4e04-9eb0-2ba2d50511d8",
   "metadata": {},
   "source": [
    "### Getting Started"
   ]
  },
  {
   "cell_type": "markdown",
   "id": "a7fb0584-a2fd-43e6-80b8-723a5e2f1560",
   "metadata": {},
   "source": [
    "If you click the link here, you can see that we developed a [sample resume](https://docs.google.com/document/d/1FcKDejrWm0PP8CGELGLV_W9ZJQxUXm0OxdiXSyMsjoE/edit) for you.  You can copy and paste the content into a new word document to get started.\n",
    "\n",
    "So a lot of the work is done for you, but there is still more to complete.  We highlighted sections to consider editing in orange."
   ]
  },
  {
   "cell_type": "markdown",
   "id": "7c9d88ad-4d79-42ba-85bc-3216fe43f9f7",
   "metadata": {},
   "source": [
    "### Top Section - Education and Skills\n",
    "\n",
    "* Education \n",
    "\n",
    "In the top section, add your education -- meaning any undergraduate and masters degrees completed.  If courses towards masters are completed these can also be listed.  Please have a relevant coursework under each degree pursued that includes (1) technical courses (programming, databases, etc.) (2) math courses (especially statistics, calculus, etc.), or (3) analytics or business related courses (eg. economics, quantitative research).    "
   ]
  },
  {
   "cell_type": "markdown",
   "id": "1fe42479-e5e2-4c31-b85d-f95c8a5298f7",
   "metadata": {},
   "source": [
    "* Skills\n",
    "\n",
    "We filled out a skills section for you, but add additional skills relevant to computer programming, data analysis or data science.  You can fold them into the existing sections we created, or you can add/update a section title."
   ]
  },
  {
   "cell_type": "markdown",
   "id": "08ea51fc-d4d3-488c-8e1a-451eeac3b1f4",
   "metadata": {},
   "source": [
    "### Explaining Experience"
   ]
  },
  {
   "cell_type": "markdown",
   "id": "f60eaaa3-3c27-4a24-a087-78f7f18f6090",
   "metadata": {},
   "source": [
    "When explaining your experiences, there are a couple of techniques we want to use.  And this advice applies to explaining your experience in a conversation or interview, as well as a resume.\n",
    "\n",
    "* Using the So what principal? \n",
    "* Using the Pyramid Principal.\n",
    "\n",
    "Let's get started by looking at how we explain the Jigsaw Labs experience."
   ]
  },
  {
   "cell_type": "markdown",
   "id": "6dfabf38-dd14-43ab-bfd2-fe427c68f507",
   "metadata": {},
   "source": [
    "```\n",
    "Jigsaw Labs\n",
    "●  Part of the six-month 450+ hour project-based course studying both backend and data engineering. \n",
    "●  Backend: Learned Python, SQL and Flask, implementing design patterns like MVC, the adapter pattern, and ORMs. \n",
    "```"
   ]
  },
  {
   "cell_type": "markdown",
   "id": "8c7091b7-ba4f-4b8c-915f-074e01563253",
   "metadata": {},
   "source": [
    "Notice that above, we employ the pyramid principal.  That is we start broad and then go narrow."
   ]
  },
  {
   "cell_type": "markdown",
   "id": "9c908d10-004c-4379-9a58-cf2d6aeb1dea",
   "metadata": {},
   "source": [
    "* Explaining work experience"
   ]
  },
  {
   "cell_type": "markdown",
   "id": "ba0d84de-46c3-4495-844b-23e1e17a4a1b",
   "metadata": {},
   "source": [
    "How do we employ the pyramid principal with a work experience?  Start broad and going narrow, and move from problem to solution.  You should start with the *business problem* or purpose, and the attempted solution.  And only after stating the business problem do we move into how we helped to solve this with a technical solution.  "
   ]
  },
  {
   "cell_type": "markdown",
   "id": "1622e4df-b30b-48d6-b87a-9df956637582",
   "metadata": {},
   "source": [
    "For example, let's look at a sample internship experience."
   ]
  },
  {
   "cell_type": "markdown",
   "id": "fe895267-c40b-46db-a432-c2b0b8347d6b",
   "metadata": {},
   "source": [
    "```\n",
    "Cred Protocol\n",
    "● Backend and data engineer for pre-seed startup that provides credit scores to blockchain users, making asset lending based decisions more accessible to web3 customers.\n",
    "● Improved credit scoring models for blockchain users by leveraging their on-chain and off-chain activity. This included Plaid integration so off-chain financial data could be used in scoring.  Performed feature engineering for additional attributes, improving model performance by 15%.\n",
    "```"
   ]
  },
  {
   "cell_type": "markdown",
   "id": "c82ff553-b7d4-4fc1-a217-662977b2e373",
   "metadata": {},
   "source": [
    "So the format is: \n",
    "```\n",
    "* Your position/role and the problem the company solves \n",
    "* How you contributed (without technical details) to the mission.  How you used tech to do so. \n",
    "```"
   ]
  },
  {
   "cell_type": "markdown",
   "id": "9158f583-1a64-41bd-bf1f-e3f4bda8db75",
   "metadata": {},
   "source": [
    "Why do it that way?  Well imagine if we just focused on the technical solution.  With just the technical solution, we would miss the importance of this contribution to the company, as well as the complication involved in fitting the contribution into a bigger picture.  In addition, we want to communicate that *we understand the bigger picture*.  After all, engineering is constant decision making, and companies want engineers to make those decisions in service of solving the company's problem."
   ]
  },
  {
   "cell_type": "markdown",
   "id": "67a270b9-e578-48ad-94f8-a49c81525842",
   "metadata": {},
   "source": [
    "#### Other general tips for experience"
   ]
  },
  {
   "cell_type": "markdown",
   "id": "a24e4bd2-10d7-47c0-ab14-072555f75b4c",
   "metadata": {},
   "source": [
    "Some other advice for explaining experience are to consider:\n",
    "\n",
    "1. How will it translate to a technical role?  Notice that this does not mean it needed to involve *technical skills*.  Other valuable skills for an engineer involves (project) management and organization, communication or visualizations, entrepreneurship or scrappiness.  \n",
    "\n",
    "2. What's made it hard/interesting?  Focus on the hard or interesting parts of the job.  Maybe you don't think of one of your positions as hard, but imagine a random professional walking into the job on the first day -- what would they need to become skilled in?  Those are the skills that you learned and own. \n",
    "\n",
    "3. What about numbers?  Applicants often get the advice of using numbers to show the impact of what they did.  But oftentimes, by using numbers we don't pass the so what test.  For example, if you built a feature that is used by 80% of customers, a lot of that is likely attributed to product development and design.  The engineers are really valuable for solving technical problems.  That's why we hire engineers.  Focus on telling the employer what he's buying when he gets your services."
   ]
  },
  {
   "cell_type": "markdown",
   "id": "8cece90e-5d8d-4d41-a40b-705d319be361",
   "metadata": {},
   "source": [
    "### Summary"
   ]
  },
  {
   "cell_type": "markdown",
   "id": "69ff032b-de9f-47a6-abfb-dd25f52f0e47",
   "metadata": {},
   "source": [
    "So in this lesson we talked about how to prepare your resume, and communicate your experience both in a resume and more generally.\n",
    "\n",
    "For communicating about your experience, make sure you:\n",
    "\n",
    "* Pass the so what test.  Meaning how will your skills and experience be useful to the employer\n",
    "* Use the pyramid principal -- starting with (1) the *business problem* of the company, (2) then how you helped solve it and (3) what technical skills you used. \n",
    "\n",
    "When communicating your experience, consider it translates to a technical role.  This includes *non-technical* skills that you gained like project management, communication, or entrepreneurial skills.  And to help identify what skills you gained, consider what would have made your previous position hard to a typical professional or engineer that just stepped into the job on the first day.  What would you need to tell them."
   ]
  }
 ],
 "metadata": {
  "kernelspec": {
   "display_name": "Python 3 (ipykernel)",
   "language": "python",
   "name": "python3"
  },
  "language_info": {
   "codemirror_mode": {
    "name": "ipython",
    "version": 3
   },
   "file_extension": ".py",
   "mimetype": "text/x-python",
   "name": "python",
   "nbconvert_exporter": "python",
   "pygments_lexer": "ipython3",
   "version": "3.9.12"
  }
 },
 "nbformat": 4,
 "nbformat_minor": 5
}
