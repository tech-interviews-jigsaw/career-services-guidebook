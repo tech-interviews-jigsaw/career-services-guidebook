{
 "cells": [
  {
   "cell_type": "markdown",
   "id": "a83ecbdb-50ac-4974-9dfd-3b744132eb2f",
   "metadata": {},
   "source": [
    "# General Themes"
   ]
  },
  {
   "cell_type": "markdown",
   "id": "9b873fa3-ee89-48e2-bc03-de29584de6f9",
   "metadata": {},
   "source": [
    "### Introduction"
   ]
  },
  {
   "cell_type": "markdown",
   "id": "7ad16663-e5d1-4374-846c-812abb4cd6c7",
   "metadata": {},
   "source": [
    "There are two main themes that you should aim for throughout your job search and networking in general: convey *genuine* interest, and be a peer. "
   ]
  },
  {
   "cell_type": "markdown",
   "id": "9bb4b6ab-72d4-464c-9500-7511e5424333",
   "metadata": {},
   "source": [
    "### Listen to Joan"
   ]
  },
  {
   "cell_type": "markdown",
   "id": "2df2e86f-f70e-4389-916e-44199fe83c19",
   "metadata": {},
   "source": [
    "In Mad Men (about the 1960s Ad Industry), Joan gives some advice to her husband about how to approach career transition into psychiatry. "
   ]
  },
  {
   "cell_type": "markdown",
   "id": "203e10d3-9563-4455-a53c-93cb7c3bfadc",
   "metadata": {},
   "source": [
    "`Joan`: The most important thing about an interview is to express enthusiasm in a believable way.  No self-deprecating humor.  Your a smart, your funny, your great to be around.  But you haven't decided if they're the right one.\n",
    "\n",
    "`Greg`: Joan, this isn't a beauty pageant.\n",
    "\n",
    "`Joan`: Well, I've seen executives crash and burn."
   ]
  },
  {
   "cell_type": "markdown",
   "id": "4cd4c518-f616-41ec-9d78-b5a7de2320ac",
   "metadata": {},
   "source": [
    "<img src=\"./joan-harris.png\" width=\"30%\">"
   ]
  },
  {
   "cell_type": "markdown",
   "id": "bb6233b6-7bfb-4094-b8d3-72f513cdd9e7",
   "metadata": {},
   "source": [
    "In the above is both of the two components -- be enthusiastic and excited while still standing on fairly equal footing.  They have a lot to offer, but so do you."
   ]
  },
  {
   "cell_type": "markdown",
   "id": "705495de-bc4d-4543-8ecf-8af70bb49f31",
   "metadata": {},
   "source": [
    "### Be a peer\n",
    "\n",
    "1. Don't get too high\n",
    "\n",
    "Your mindset should be that you are more or less a peer.  Your both adults.  That means that you are not above anyone else either.  \n",
    "\n",
    "When talking about past accomplishments you were proud of, you can word it as, \n",
    "\n",
    "* \"I was really fortunate to have been given that kind of opportunity\", or\n",
    "* \"I really loved working on that project\"\n",
    "\n",
    "2. Don't put yourself too below either\n",
    "\n",
    "Do say thank you, and convey your genuine appreciation.  Do not be over the top.  Saying phrases like, \"I'm honored\" or being too effusive in praise can make an employer nervous that the role is a stretch for you.  Remember what Joan said, you have a lot to offer, and your making sure they are a fit, just as they are seeing if it's a fit for you."
   ]
  },
  {
   "cell_type": "markdown",
   "id": "6e189ee2-66d1-4cb6-8ffb-20229df911fa",
   "metadata": {},
   "source": [
    "### Convey your genuine interest"
   ]
  },
  {
   "cell_type": "markdown",
   "id": "71a81beb-24f4-42bc-bb50-e1bb29fa1a3c",
   "metadata": {},
   "source": [
    "People understanding your *genuine* interest is essential to networking and job applications.  If you reach out with a generic message to someone you know nothing about, it's spam.  If you reach out to someone who really aligns with your interests, you're trying to make a connection.\n",
    "\n",
    "If you see a position posted on slack that you want to respond quickly to, still make sure you carefully read the description so you can explain how \"it maybe a fit\" or that the work \"sounds really interesting\".  \n",
    "\n",
    "This means first identifying *what* you are interested in.  Or *why* you are interested in the position or company.  This is what Alison Quaglia said, in her blog, a bootcamp grad who landed a job at Pinterest.\n",
    "\n",
    "> \"Even if the company didn’t have a big name, I tried to focus on other aspects I was passionate about, such as the company mission, the product, the role itself and the people working there. For example, there was one early stage startup that reached out to me and I’d never heard of them before. When I learned about their product, mission, and met the people working there, I was so blown away that they soon shot to the top of my list!\"\n",
    "\n",
    "### Developing an interest"
   ]
  },
  {
   "cell_type": "markdown",
   "id": "97ace74d-4352-43c4-a413-2cecc54c9eb1",
   "metadata": {},
   "source": [
    "How do you develop and display an interest.  There are a few ways.\n",
    "\n",
    "First understand that your interest can come in dimensions as to (1) a technology (eg. LLMs, data analysis) or (2) a domain (eg. finance, education).\n",
    "\n",
    "1. Read books\n",
    "\n",
    "If you're interested in finance, or how people learn, search through what are the top books on the subject.  See which ones you are most interested in, and read them.  If you don't want to read them, are you sure your that interested?\n",
    "\n",
    "2. Develop a project (even a small one)\n",
    "\n",
    "You have a lot of skills to collect and explore data.  If you're interested in the 2008 financial crisis, go to Kaggle, pull some data, and do some data exploration.  Use it as a way to reinforce your skills and convey interest.\n",
    "\n",
    "By doing so, you will (1) learn more (2) convey your interest (3) have something interesting to talk to others in the field about.  For example, here's an example of using a project to get an intro. "
   ]
  },
  {
   "cell_type": "markdown",
   "id": "14b1a80a-4546-47d9-90cf-1b02d1876447",
   "metadata": {},
   "source": [
    "<img src=\"./library-for-all.png\" width=\"50%\">"
   ]
  },
  {
   "cell_type": "markdown",
   "id": "d494e140-4dcd-42bd-9e2d-50185af3c4bb",
   "metadata": {},
   "source": [
    "Treat your interest as real as if you had a job in the industry, and people treat you as if you already do."
   ]
  },
  {
   "cell_type": "markdown",
   "id": "329d8c96-bf1a-4a37-b2d7-aba47417fd38",
   "metadata": {},
   "source": [
    "### Summary"
   ]
  },
  {
   "cell_type": "markdown",
   "id": "04112858-0b9c-444c-adc1-78efdc20f113",
   "metadata": {},
   "source": [
    "When communicating with data engineers it's important to both (1) convey *genuine* enthusiasm and (2) be a peer of those in the industry.  You should still be appreciative and thankful for them helping out, but also know that you have a lot to offer.  You can do this in a way that doesn't come off as arrogant, by talking about opportunities you were able to pursue in the past, or were excited to work on.\n",
    "\n",
    "It may take some work to determine *what* you are interested in.  But do this work.  You can read books on the subject, or pursue a small (or growing) project on the subject.  Doing so is an excellent way to connect others who share your interest."
   ]
  }
 ],
 "metadata": {
  "kernelspec": {
   "display_name": "Python 3 (ipykernel)",
   "language": "python",
   "name": "python3"
  },
  "language_info": {
   "codemirror_mode": {
    "name": "ipython",
    "version": 3
   },
   "file_extension": ".py",
   "mimetype": "text/x-python",
   "name": "python",
   "nbconvert_exporter": "python",
   "pygments_lexer": "ipython3",
   "version": "3.9.12"
  }
 },
 "nbformat": 4,
 "nbformat_minor": 5
}
