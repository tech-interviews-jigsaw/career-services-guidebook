{
 "cells": [
  {
   "cell_type": "markdown",
   "id": "cc45bb2c-a47a-4e8e-b482-bfa4edb8a42e",
   "metadata": {},
   "source": [
    "# Staying Ok"
   ]
  },
  {
   "cell_type": "markdown",
   "id": "9458bb20-a8c4-488b-81c2-3d774a14cee4",
   "metadata": {},
   "source": [
    "### Introduction"
   ]
  },
  {
   "cell_type": "markdown",
   "id": "533e23d4-5006-4416-b02b-629d6c51ce8c",
   "metadata": {},
   "source": [
    "### Good advice"
   ]
  },
  {
   "cell_type": "markdown",
   "id": "082e7a82-d015-4b20-93ca-7a873649a944",
   "metadata": {},
   "source": [
    "\"If you can dream—and not make dreams your master;   \n",
    "If you can think—and not make thoughts your aim;   \n",
    "If you can meet with Triumph and Disaster\n",
    "\n",
    "And treat those two impostors just the same;\"\n",
    "    \n",
    "[Rudyard Kipling, If](https://www.poetryfoundation.org/poems/46473/if---) "
   ]
  },
  {
   "cell_type": "markdown",
   "id": "9a285c06-c0b2-446c-8035-14d6936ae018",
   "metadata": {},
   "source": [
    "[Tracy Lum - Interviewing](https://www.tracylum.com/blog/2020-01-29-surviving-software-engineering-interviews/)"
   ]
  },
  {
   "cell_type": "code",
   "execution_count": null,
   "id": "5cda5b4f-7c08-45d2-af5f-fc439c06df3e",
   "metadata": {},
   "outputs": [],
   "source": []
  }
 ],
 "metadata": {
  "kernelspec": {
   "display_name": "Python 3 (ipykernel)",
   "language": "python",
   "name": "python3"
  },
  "language_info": {
   "codemirror_mode": {
    "name": "ipython",
    "version": 3
   },
   "file_extension": ".py",
   "mimetype": "text/x-python",
   "name": "python",
   "nbconvert_exporter": "python",
   "pygments_lexer": "ipython3",
   "version": "3.10.14"
  }
 },
 "nbformat": 4,
 "nbformat_minor": 5
}
