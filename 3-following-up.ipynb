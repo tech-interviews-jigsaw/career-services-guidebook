{
 "cells": [
  {
   "cell_type": "markdown",
   "id": "a51b4ce1-b85f-4d5a-9102-28c0fb74486a",
   "metadata": {},
   "source": [
    "# Following Up"
   ]
  },
  {
   "cell_type": "markdown",
   "id": "fa8b50c1-c43d-42b1-b068-a1dfb2b111eb",
   "metadata": {},
   "source": [
    "* Follow up linkedin applications with a note, but only for positions that you really want.  Don't spam.\n",
    "\n",
    "For example this is good.\n",
    "```\n",
    "Hi (hiring manager),\n",
    "\n",
    "I am ... and found your posted position for to be appealing, because ... Given the crossover, I feel like this would be the best possible scenario for me to scale my impact on student outcomes.\n",
    "\n",
    "I sent in my resume through the Linkedin application, but I am sure you will be swamped with inbounds. So I wanted to reach out to express my interest. Let me know if you have time to chat in the next couple weeks, and hope all is well.\n",
    "\n",
    "Best,\n",
    "(Name)\n",
    "```"
   ]
  },
  {
   "cell_type": "markdown",
   "id": "d488d5f3-1596-4aaa-8568-999eb33ae04e",
   "metadata": {},
   "source": [
    "But this is essentially spam."
   ]
  },
  {
   "cell_type": "markdown",
   "id": "93f3a4d6-0d61-4781-b88a-8fd5339dede5",
   "metadata": {},
   "source": [
    "```\n",
    "I hope you’re doing well! I’m interested in the role you posted: Backend Engineer - Instructor. Based on my experience as Software Engineer III at Walmart, I believe I could be a good fit.\n",
    "\n",
    "Are you open to a quick chat to discuss the position? I’d love to learn more about it, and share more about my own qualifications. PFA my resume for your reference. I look forward to hearing from you.\n",
    "```"
   ]
  },
  {
   "cell_type": "code",
   "execution_count": null,
   "id": "136830a8-4dc5-4b07-b238-8eb83df578a4",
   "metadata": {},
   "outputs": [],
   "source": []
  }
 ],
 "metadata": {
  "kernelspec": {
   "display_name": "Python 3 (ipykernel)",
   "language": "python",
   "name": "python3"
  },
  "language_info": {
   "codemirror_mode": {
    "name": "ipython",
    "version": 3
   },
   "file_extension": ".py",
   "mimetype": "text/x-python",
   "name": "python",
   "nbconvert_exporter": "python",
   "pygments_lexer": "ipython3",
   "version": "3.10.6"
  }
 },
 "nbformat": 4,
 "nbformat_minor": 5
}
