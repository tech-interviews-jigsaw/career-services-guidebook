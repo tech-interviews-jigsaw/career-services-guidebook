{
 "cells": [
  {
   "cell_type": "markdown",
   "id": "headed-compensation",
   "metadata": {},
   "source": [
    "### Job Boards"
   ]
  },
  {
   "cell_type": "markdown",
   "id": "283d9211-2e60-4888-afaa-a7ae7a468c28",
   "metadata": {},
   "source": [
    "#### Jobs to Look For\n",
    "\n",
    "* Data Analyst\n",
    "* Analytics Engineer\n",
    "* Data Engineer\n",
    "* Python Engineer\n",
    "* Backend Engineer\n",
    "\n",
    "#### Difficulty of Jobs\n",
    "\n",
    "Less Experience\n",
    "* Intern/Apprentice\n",
    "* Associate\n",
    "* Junior\n",
    "\n",
    "Lots of experience\n",
    "* Sr. Engineer (3 - 5 years)\n",
    "* Principal Engineer (5+)\n",
    "\n",
    "### For Linkedin Applications\n",
    "* Linkedin\n",
    "* Updated linkedin profile to have photo, relevant data engineering experience\n",
    "* Only apply with pdf version of your resume\n",
    "\n",
    "\n",
    "### Reaching out non-traditional channels\n",
    "```\n",
    "Hey, I graduated from a data engineering bootcamp a few weeks ago -- and have a good background in backend engineering (flask, pytest, python, sql), and data pipelines (airflow, snowflake, dbt) and cloud computing (docker, aws)\n",
    "\n",
    "The position looks really interesting.  Let me know if you think it might be a fit.\n",
    "```"
   ]
  },
  {
   "cell_type": "markdown",
   "id": "bearing-prairie",
   "metadata": {},
   "source": [
    "\tI. Slack Communities\n",
    "\t\t○ mlops-community.slack.com\n",
    "\t\t○ cfa.slack.com (code for america)\n",
    "\t\t○ getdbt.slack.com - dbt\n",
    "\t\t○ apache-airflow.slack.com - airflow\n",
    "\t\t○ measure.slack.com\n",
    "\t\t○ nycdevs.slack.com\n",
    "\t\t○ techmasters.slack.com\n",
    "\t\t○ pythondev.slack.com\n",
    "\t\t○ datatalks-club.slack.com\n",
    "\t\t○ launch-chat.slack.com\n",
    "\t\t○ betanyc.slack.com\n",
    "\t\t○ nyctech.slack.com\n",
    "\t\t○ bugout-dev.slack.com\n",
    "\t II. Alternative Channels\n",
    "* [https://www.glassdoor.com/Job/new-york-data-engineer-jobs-SRCH_IL.0,8_IC1132348_KO9,22.htm?context=Jobs&clickSource=searchBox](https://www.glassdoor.com/Job/new-york-data-engineer-jobs-SRCH_IL.0,8_IC1132348_KO9,22.htm?context=Jobs&clickSource=searchBox)\n",
    "\n",
    "* https://www.glassdoor.com/Job/seattle-backend-jobs-SRCH_IL.0,7_IC1150505_KO8,15.htm\n",
    "\n",
    "* https://www.glassdoor.com/Job/remote-data-engineer-jobs-SRCH_IL.0,6_IS11047_KO7,20.htm?minSalary=73000&maxSalary=110000\n",
    "\n",
    "* [https://twitter.com/search?q=hiring%20data%20engineer%20&src=typed_query&f=top](https://twitter.com/search?q=hiring%20data%20engineer%20&src=typed_query&f=top)\n",
    "* https://dataengjobs.com/\n",
    "* https://www.idealist.org/en/jobs?q=python&searchMode=true\n",
    "* https://www.builtinnyc.com/companies?status=hiring_now (change to relevant city)\n",
    "* https://ai-jobs.net/\n",
    "* https://lensa.com/talent/job-opportunities?job-title=Data%20Engineer&location=Seattle,%WA\n",
    "* https://www.garysguide.com/jobs?region=seattle&q=python\n",
    "\n",
    "\tIII. Search \n",
    "    * site: jobs.lever.co data engineering new york\n",
    "    * site: jobs.lever.co analytics engineer new york\n",
    "             Looker, DBT, \n",
    "    * site: greenhouse.io data engineer intern\n",
    "    * Site: apply.workable.com data engineer\n",
    "    * Site: jobs.smartrecruiters.com\n",
    "    § https://jobs.workable.com/ - search new york junior python\n",
    "    * Search - we're hiring on linkedin\n",
    "IV. Email Lists\n",
    "* Noah at Tech Jobs for Good\n",
    "* Progressphiles\n",
    "* NYC Data\n",
    "\tIII. Job Boards\n",
    "\t\t○ Tier 1\n",
    "\t\t\t§ Nonprofit/interns\n",
    "* Angellist?\n",
    "* Craigslist\n",
    "\n",
    "* https://jobs.codeforamerica.org/\n",
    "\n",
    "\n",
    "\t\t\t\n",
    "        https://www.analytictalent.datasciencecentral.com/jobs - ok corporate, perhaps good for contacting hiring manager\n",
    "\tIV. Aggregates\n",
    "\t\t○ https://docs.google.com/spreadsheets/d/1NZUdKXEZhMqSJuC9mUH9f_4p7X5qQ2XKiyMpc3Zyc6s/edit#gid=0\n",
    "        * https://github.com/tramcar/awesome-job-boards"
   ]
  },
  {
   "cell_type": "markdown",
   "id": "9679956f-a52e-4aa9-ac63-457ab639466e",
   "metadata": {},
   "source": [
    "### Networking\n",
    "* Lunchclub\n",
    "* https://www.intros.club/join/nyc-tech-connect (not just for nyc)\n",
    "* Coffeechats on slack\n",
    "* Meetups (DBT, etc.)\n"
   ]
  },
  {
   "cell_type": "markdown",
   "id": "c28d6bfe-6f0f-40c6-b25f-9777eb84aba7",
   "metadata": {},
   "source": [
    "* Women in tech Communities\n",
    "    * https://elpha.com/ \n",
    "    * women who code "
   ]
  }
 ],
 "metadata": {
  "kernelspec": {
   "display_name": "Python 3 (ipykernel)",
   "language": "python",
   "name": "python3"
  },
  "language_info": {
   "codemirror_mode": {
    "name": "ipython",
    "version": 3
   },
   "file_extension": ".py",
   "mimetype": "text/x-python",
   "name": "python",
   "nbconvert_exporter": "python",
   "pygments_lexer": "ipython3",
   "version": "3.10.6"
  }
 },
 "nbformat": 4,
 "nbformat_minor": 5
}
