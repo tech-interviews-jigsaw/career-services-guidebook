{
 "cells": [
  {
   "cell_type": "markdown",
   "id": "113e81c9-4dc5-472a-b6c0-f6c9e73fe276",
   "metadata": {},
   "source": [
    "# ChatGPT (see one note)"
   ]
  },
  {
   "cell_type": "markdown",
   "id": "dd9eecb5-7e8b-420c-92f8-b939c3a4e9bf",
   "metadata": {},
   "source": [
    "9 ways ChatGPT saves me hours of work every day, and why you'll never outcompete those who use AI effectively.\n",
    "\n",
    "A list for those who write code:\n",
    "\n",
    "1. Explaining code: Take some code you want to understand and ask ChatGPT to explain it.\n",
    "\n",
    "2. Improve existing code: Ask ChatGPT to improve existing code by describing what you want to accomplish. It will give you instructions about how to do it, including the modified code.\n",
    "\n",
    "3. Rewriting code using the correct style: This is great when refactoring code written by non-native Python developers who used a different naming convention. ChatGPT not only gives you the updated code; it also explains the reason for the changes.\n",
    "\n",
    "4. Rewriting code using idiomatic constructs: Very helpful when reviewing and refactoring code written by non-native Python developers.\n",
    "\n",
    "5. Simplifying code: Ask ChatGPT to simplify complex code. The result will be a much more compact version of the original code.\n",
    "\n",
    "6. Writing test cases: Ask it to help you test a function, and it will write test cases for you.\n",
    "\n",
    "7. Exploring alternatives: ChatGPT told me its Quick Sort implementation wasn't the most efficient, so I asked for an alternative implementation. This is great when you want to explore different ways to accomplish the same thing.\n",
    "\n",
    "8. Writing documentation: Ask ChatGPT to write the documentation for a piece of code, and it usually does a great job. It even includes usage examples as part of the documentation!\n",
    "\n",
    "9. Tracking down bugs: If you are having trouble finding a bug in your code, ask ChatGPT for help.\n",
    "\n",
    "Something to keep in mind:\n",
    "\n",
    "I have 2+ decades of programming experience. I like to think I know what I'm doing. I don't trust people's code (especially mine,) and I surely don't trust ChatGPT's output.\n",
    "\n",
    "This is not about letting ChatGPT do my work. This is about using it to 10x my output.\n",
    "\n",
    "ChatGPT is flawed. I find it makes mistakes when dealing with code, but that's why I'm here: to supervise it. Together we form a more perfect Union. (Sorry, couldn't help it)\n",
    "\n",
    "Developers who shit on this are missing the point. The story is not about ChatGPT taking programmers' jobs. It's not about a missing import here or a subtle mistake there.\n",
    "\n",
    "The story is how, overnight, AI gives programmers a 100x boost.\n",
    "\n",
    "Ignore this at your own peril.\n",
    "\n"
   ]
  },
  {
   "cell_type": "code",
   "execution_count": null,
   "id": "4f7d21a2-fba3-40e9-be04-000a78d21161",
   "metadata": {},
   "outputs": [],
   "source": []
  }
 ],
 "metadata": {
  "kernelspec": {
   "display_name": "Python 3 (ipykernel)",
   "language": "python",
   "name": "python3"
  },
  "language_info": {
   "codemirror_mode": {
    "name": "ipython",
    "version": 3
   },
   "file_extension": ".py",
   "mimetype": "text/x-python",
   "name": "python",
   "nbconvert_exporter": "python",
   "pygments_lexer": "ipython3",
   "version": "3.10.6"
  }
 },
 "nbformat": 4,
 "nbformat_minor": 5
}
