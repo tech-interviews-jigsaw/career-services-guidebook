{
 "cells": [
  {
   "cell_type": "markdown",
   "id": "568b1253-fe99-4a25-9f4f-91ea8642fd3d",
   "metadata": {},
   "source": [
    "# Prepping for the initial interview"
   ]
  },
  {
   "cell_type": "markdown",
   "id": "a062b0fb-a59f-4c85-a19b-f50dcf98c811",
   "metadata": {},
   "source": [
    "### Introduction"
   ]
  },
  {
   "cell_type": "markdown",
   "id": "4ee7014c-d187-4fd5-9838-0e32f3fa5b80",
   "metadata": {},
   "source": [
    "Once you have heard back from a employer that they would like to speak to you, it's important to prepare for that initial interview.  Even though the initial interview is oftentimes more behavioral than technical, a significant component that companies are looking for is to why you would like to work for them, and how you can contribute.  To do this, you'll need to research the company and the position. "
   ]
  },
  {
   "cell_type": "markdown",
   "id": "c463485f-3696-4c00-8a45-4acbcb656b39",
   "metadata": {},
   "source": [
    "### The general mindset"
   ]
  },
  {
   "cell_type": "markdown",
   "id": "2691cd48-a2af-492c-ac1d-58b56de18f96",
   "metadata": {},
   "source": [
    "In general, when you walk into an interview you'll want to have the mindset that the job you are interviewing for seems like a really nice match.  \n",
    "\n",
    "For it to be a match, it means that your past experiences prepare you for the role, and that the role would help you pursue future goals.  Figuring out how a role does this, takes some work.  So the next step is to then the research the position.  There are various steps to doing this."
   ]
  },
  {
   "cell_type": "markdown",
   "id": "f4e03996-03ff-45ea-b02d-531d355c01a2",
   "metadata": {},
   "source": [
    "### The description and website"
   ]
  },
  {
   "cell_type": "markdown",
   "id": "8fe540f3-941a-409b-8955-36713481cb60",
   "metadata": {},
   "source": [
    "* First, **reread the job description** -- what does the company do, and how do you think your role will help contribute to the company's goals.  Try to think of specific examples.  "
   ]
  },
  {
   "cell_type": "markdown",
   "id": "06607750-d29d-4580-8d31-c0cdb73ddd98",
   "metadata": {},
   "source": [
    "For example, let's look at the following job description."
   ]
  },
  {
   "cell_type": "markdown",
   "id": "48d0ecce-be4c-44fc-ae1a-55524db03de9",
   "metadata": {},
   "source": [
    "<img src=\"./brillio.png\" width=\"70%\">"
   ]
  },
  {
   "cell_type": "markdown",
   "id": "ac7f5b12-33aa-46e4-b1a4-665ff651918b",
   "metadata": {},
   "source": [
    "Reading it, it's a little difficult to see what problem brillio solves.  So next, let's go to the website to find more information.  It looks like Brillio provides services to external clients.  We click to services, and focus on the one that seems most relevant to our role, which is data analytics."
   ]
  },
  {
   "cell_type": "markdown",
   "id": "aa94ce0c-6f5c-4037-aa66-c9d966bd936c",
   "metadata": {},
   "source": [
    "> <img src=\"./website-brillio.png\" width=\"40%\">"
   ]
  },
  {
   "cell_type": "markdown",
   "id": "2dabac3b-56ff-4503-958d-c6d7ac7a0d64",
   "metadata": {},
   "source": [
    "From there, we can scroll down, and we would like to see how does data analytics help their clients.  Scrolling down we get more information."
   ]
  },
  {
   "cell_type": "markdown",
   "id": "29e713ad-b161-4aca-a998-cb03150a2a17",
   "metadata": {},
   "source": [
    "> <img src=\"./customer-data.png\" width=\"70%\">"
   ]
  },
  {
   "cell_type": "markdown",
   "id": "01fd34a5-b56b-4c88-ba6d-0d9ca6a2f02f",
   "metadata": {},
   "source": [
    "Ok, so it seems like they help companies develop insights about their customers.  This likely relates to both marketing and customer retention.  "
   ]
  },
  {
   "cell_type": "markdown",
   "id": "eaf564d4-0cb9-45e9-bbc7-7ca0bc9ecb34",
   "metadata": {},
   "source": [
    "There's more information to glean from the website, for example -- under `Approach`, we can see the types of industries they help, and likely can find use cases of how they help these industries on that page."
   ]
  },
  {
   "cell_type": "markdown",
   "id": "bab1b7e3-6b6b-4fbe-a3f6-3827e7804cb3",
   "metadata": {},
   "source": [
    "<img src=\"./approach.png\" width=\"50%\">"
   ]
  },
  {
   "cell_type": "markdown",
   "id": "ad273ea5-1fe0-4739-a962-ee0749443d90",
   "metadata": {},
   "source": [
    "And as you are reading this, remember that you are trying to determine how this company would be interesting to you -- and how your previous experience demonstrates this.  "
   ]
  },
  {
   "cell_type": "markdown",
   "id": "6a0837fc-5784-4375-94e5-162bfba3198e",
   "metadata": {},
   "source": [
    "### Linkedin of Current Workers"
   ]
  },
  {
   "cell_type": "markdown",
   "id": "40a7318e-6043-449c-bd1c-5b9fb6beacf4",
   "metadata": {},
   "source": [
    "Another outlet to find more information about the position is to look at the linkedin of those currently in that position.  For example, if we search linkedin for data engineers at brillio, we'll get a variety of results."
   ]
  },
  {
   "cell_type": "markdown",
   "id": "d0da4f03-6d19-42d5-a45b-f8656af64c73",
   "metadata": {},
   "source": [
    "<img src=\"./brillio-engineers.png\" width=\"40%\">"
   ]
  },
  {
   "cell_type": "markdown",
   "id": "c6188921-6547-4d8b-9f6b-ad1fdf8dac4f",
   "metadata": {},
   "source": [
    "From there, we can click through to see what these engineers currently do for brillio, and what roles they had previously.\n",
    "\n",
    "While some descriptions may be sparse, others can help you learn more about the role."
   ]
  },
  {
   "cell_type": "markdown",
   "id": "08ae994c-5f8d-4e85-aa79-ee706aeb5526",
   "metadata": {},
   "source": [
    "> <img src=\"./linkedin-desc.png\" width=\"70%\">"
   ]
  },
  {
   "cell_type": "markdown",
   "id": "fece01c2-bbe2-43cc-a5f4-3e3c4db10c3a",
   "metadata": {},
   "source": [
    "So here, we can see an emphasis on ETL tasks, mainly using an AWS stack.  There may be many tools that you are unfamiliar with -- but googling terms that you are unfamiliar with will help you feel more comfortable for the interview.  \n",
    "\n",
    "And again, with this new perspective on the role, you again will want to determine how it makes the position interesting to you, and past experiences that relate.  \n",
    "\n",
    "> **Note** If you know the names of some of the individuals who are interviewing you, or if it's a small team, you should look at those individuals' linkedin so that you can learn more about what interests them, and the type of work the hiring managers perform. "
   ]
  },
  {
   "cell_type": "markdown",
   "id": "7008e6cb-1f85-4298-b247-00eaae85359b",
   "metadata": {},
   "source": [
    "### Blogs and Githubs"
   ]
  },
  {
   "cell_type": "markdown",
   "id": "53aa1561-571a-4004-8749-07b571c6e715",
   "metadata": {},
   "source": [
    "Finally, a great way to learn in detail what an engineering team is working on is to look at the engineering blog or github.  \n",
    "\n",
    "> Even if you are not interviewing for a particular company, reading an engineering blog is a great way to see how a professional team thinks through data engineering problem.  \n",
    "\n",
    "For example, let's say that we are interviewing for Yipit.  If we search for Yipit data engineering blog on Google, we'll get [the following](https://medium.com/yipitdata-engineering):\n",
    "\n",
    "<img src=\"./yipit-blog.png\" width=\"50%\">"
   ]
  },
  {
   "cell_type": "markdown",
   "id": "d6680eda-a975-4e53-ad46-a903dbfc7160",
   "metadata": {},
   "source": [
    "So here, we click through some posts that we find interesting to learn in detail about work the team performed, and the stack they used.  If some of the posts are written by someone who might be interviewing us, we should read those posts."
   ]
  },
  {
   "cell_type": "markdown",
   "id": "39776b9a-1220-41cc-a456-e0ca8edcff2e",
   "metadata": {},
   "source": [
    "Finally, we can also look at [YipitData's github](https://github.com/orgs/Yipit/repositories?page=1).  While there are a lot of repositories, we can focus on those that were updated most recently, or those that appear particularly relevant to our position."
   ]
  },
  {
   "cell_type": "markdown",
   "id": "5bee51af-d6f7-49b5-bd89-be38bbfdf3d8",
   "metadata": {},
   "source": [
    "<img src=\"./updated-recently.png\" width=\"70%\">"
   ]
  },
  {
   "cell_type": "markdown",
   "id": "fea7391a-1bea-47d3-a1f8-956a109ed6aa",
   "metadata": {},
   "source": [
    "So with this information, we can learn a lot about the type of work data engineers perform, and can hopefully find ways that we would be interested in their projects."
   ]
  },
  {
   "cell_type": "markdown",
   "id": "237638af-3e6b-427a-baea-13699c6cf9f4",
   "metadata": {},
   "source": [
    "### Summary"
   ]
  },
  {
   "cell_type": "markdown",
   "id": "9a773e78-a0fa-497b-9fe4-ed87863c8943",
   "metadata": {},
   "source": [
    "In this lessons, we saw various ways to learn more about the company.  Researching the company is extremely valuable because it shows you are interested in the position, helps you prepare answers that show you are interested, and hopefully, allows you talk with genuine enthusiasm and interest.  This interest should not be faked, but be genuine and make sense."
   ]
  }
 ],
 "metadata": {
  "kernelspec": {
   "display_name": "Python 3 (ipykernel)",
   "language": "python",
   "name": "python3"
  },
  "language_info": {
   "codemirror_mode": {
    "name": "ipython",
    "version": 3
   },
   "file_extension": ".py",
   "mimetype": "text/x-python",
   "name": "python",
   "nbconvert_exporter": "python",
   "pygments_lexer": "ipython3",
   "version": "3.10.6"
  }
 },
 "nbformat": 4,
 "nbformat_minor": 5
}
