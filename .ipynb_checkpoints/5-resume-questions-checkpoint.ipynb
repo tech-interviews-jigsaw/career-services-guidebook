{
 "cells": [
  {
   "cell_type": "markdown",
   "id": "21abb2f0-35ad-490f-a493-0d5e5de5a834",
   "metadata": {},
   "source": [
    "# Talking about your resume"
   ]
  },
  {
   "cell_type": "markdown",
   "id": "7bdc6f7d-57c5-4ffc-9d95-eadb6b9ea14f",
   "metadata": {},
   "source": [
    "### Introduction"
   ]
  },
  {
   "cell_type": "markdown",
   "id": "6a2cb769-75f0-43d0-aedc-d5ff1148a3cd",
   "metadata": {},
   "source": [
    "As you know, during interviews you'll be asked to talk about past experiences.  These are generally the experiences that you'll see on your resume."
   ]
  },
  {
   "cell_type": "markdown",
   "id": "53b54b1f-8ea1-4a8b-8d49-1c19625af66a",
   "metadata": {},
   "source": [
    "### How to Talk: Use the Star pattern"
   ]
  },
  {
   "cell_type": "markdown",
   "id": "47cbb7f7-06d3-4f14-a804-d17a1310a272",
   "metadata": {},
   "source": [
    "When describing past experiences, the common advice (and good advice) is to follow the STAR pattern.  Meaning to describe the situtation, task, action, and result.  For example, perhaps \n",
    "\n",
    "* The situation: is that the company needed to expand, so \n",
    "* Task: So we determined both our core customers, and top sales personel\n",
    "* Action: Asked analytics team to identify most profitable customers, and identify their characteristics.  And to identify top sales people, controlling for expected sales given the store and time period. \n",
    "* Result: So we could pursue these customers as we expanded, and hire similar salespeople.  We ended up hitting our growth goals of growing the customer base by 45% in six months.\n",
    "\n",
    "The above does a good job of explaining a previous experience.  Perhaps the only thing to improve is to take a moment to explain what they company did.  This will allow the interviewer to understand some of the challenges.\n",
    "\n",
    "Unfortunately, when interviewees are asked to explain their experiences they often focus on the task, and action, but not so much on the situation or the result.  It's very important to **explain the situation**.  In other words, instead of saying that your past role was customer research, the interviewer will appreciate it a lot more if you give the context of an expansion.  In addition, it also shows that while pursuing the task you had in mind the goals of the company, which generally shows a good understanding of the problem and how your work fit into the larger goals.  Finally, it allows the interviewer to play along, if they faced the challenges of an expansion, what types of research would they want to do to help the company."
   ]
  },
  {
   "cell_type": "markdown",
   "id": "46a2960f-55ac-4e3a-9fdd-00f1f7c830a8",
   "metadata": {},
   "source": [
    "### Additional Tips\n",
    "\n",
    "* Be succinct, allow for follow ups\n",
    "\n",
    "The beauty of the STAR approach is that it keeps the answer relatively succinct and to the point.  \n",
    "\n",
    "Giving a succinct answer that hits the main points allows the interviewer to ask follow up questions to what they are most interested in.  And the most important components are the situation and then your role -- this shows that you understood how your work fits into the larger goals."
   ]
  },
  {
   "cell_type": "markdown",
   "id": "14d9fa29-09e0-40a2-8424-2f74ed383a7f",
   "metadata": {},
   "source": [
    "* Start broad and go narrow\n",
    "\n",
    "Another way of explaining the situation is to start broad and then go narrow (situation and then tasks).  Oftentimes this means that the first line should really be the problem that your company statement solved, then the problem it was facing, and then your tasks and the result."
   ]
  },
  {
   "cell_type": "markdown",
   "id": "f61a4e98-1693-4001-8998-06d94bde1d1a",
   "metadata": {},
   "source": [
    "### What to talk about\n",
    "\n",
    "Even though your resume is a lived experience, it's still something you want to practice talking about.  Here is some of the work involved in presenting your resume.\n",
    "\n",
    "* Know your resume\n",
    "\n",
    "Sometimes, you may be a bit fuzzy on some components of the STAR approach.  What was the situation again?  In this case, try to do some research.  If need be, reach out to old colleagues to help them jog your memory.\n",
    "\n",
    "* Keep the interviewer's motivation in mind\n",
    "\n",
    "When talk about a past experience (and when practicing) consider what may be relevant to the position.  That's what you want to emphasize.  You do not need to list off everything you did for the job.  If you do, you'll leave the interviewer without any real takeaway, other than you did a lot.  If you're able to summarize your role they'll understand that there was a lot involved, and they'll also see you as a focused communicator.       \n",
    "\n",
    "* Talk about what was most challenging/required the most thought\n",
    "\n",
    "If you were in a role that is pretty unrelated to data engineering, you can still focus on your most impressive accomplishments, or simply work that you required the most amount of thoughtfulness to achieve the goal.  All the while, you should present this using the STAR approach of explaining the situation and then the task involved."
   ]
  },
  {
   "cell_type": "markdown",
   "id": "a129be29-8d47-4ac3-ba1e-e06df211ff2a",
   "metadata": {},
   "source": [
    "### And have the right attitude"
   ]
  },
  {
   "cell_type": "markdown",
   "id": "983218f0-b602-413c-b066-074678c616f0",
   "metadata": {},
   "source": [
    "* Don't be arrogant\n",
    "\n",
    "Some of the work you do may be really impressive.  You don't have to downplay it, but don't be cocky in terms of tone or words.  Instead the attitude should be that you were really lucky to have been giving the opportunity, and it was really exciting work that you were able to pursue. \n",
    "\n",
    "* But be enthusiastic\n",
    "\n",
    "Hopefully, you find the previous work that you did interesting.  Even if you didn't, think about the times that you were interested or challenged.  If you convey enthusiasm or interest about your past work, people will think you'll bring that same energy to their workplace.\n"
   ]
  },
  {
   "cell_type": "markdown",
   "id": "2d4e787b-8480-4615-9b15-8a43e09fe10f",
   "metadata": {},
   "source": [
    "### Summary"
   ]
  },
  {
   "cell_type": "markdown",
   "id": "3a69e66e-1656-41be-b6ee-6dd6bdfadff3",
   "metadata": {},
   "source": [
    "In this lesson, we went through various tips when talking about your resume and we covered the following:\n",
    "\n",
    "1. How to talk (use the star pattern)\n",
    "    * Begin with the purpose of the company in general, then the situation facing the company, and then your role/tasks involved\n",
    "    * This will have you starting broad and going narrow and allow the interviewer to follow along\n",
    "2. What to talk about \n",
    "    * Talk about what was interesting or challenging in the role\n",
    "    * And talk about items that will allow the interviewer to relate it to your potential role in the company\n",
    "3. Have the right attitude\n",
    "    * No matter how impressive what you did is, your attitude should be that you were given a great opportunity and really enjoyed the work\n",
    "    * But you should show that enjoyment -- even if you did not really enjoy your job -- when you walk into the interview think about the components that were enjoyable "
   ]
  },
  {
   "cell_type": "markdown",
   "id": "cf95544f-757d-4ed6-a143-147c6d16f766",
   "metadata": {
    "tags": []
   },
   "source": [
    "### Resources\n",
    "\n",
    "[Chip Huyen Resume advice](https://huyenchip.com/2023/01/24/what-we-look-for-in-a-candidate.html?utm_campaign=Data_Elixir&utm_source=Data_Elixir_422#demonstrated_expertise)"
   ]
  },
  {
   "cell_type": "code",
   "execution_count": null,
   "id": "7bbcbdba-11d6-49f3-9726-787aab54f941",
   "metadata": {},
   "outputs": [],
   "source": []
  }
 ],
 "metadata": {
  "kernelspec": {
   "display_name": "Python 3 (ipykernel)",
   "language": "python",
   "name": "python3"
  },
  "language_info": {
   "codemirror_mode": {
    "name": "ipython",
    "version": 3
   },
   "file_extension": ".py",
   "mimetype": "text/x-python",
   "name": "python",
   "nbconvert_exporter": "python",
   "pygments_lexer": "ipython3",
   "version": "3.9.12"
  }
 },
 "nbformat": 4,
 "nbformat_minor": 5
}
