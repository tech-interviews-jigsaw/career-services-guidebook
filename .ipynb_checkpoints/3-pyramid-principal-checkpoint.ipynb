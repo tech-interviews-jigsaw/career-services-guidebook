{
 "cells": [
  {
   "cell_type": "markdown",
   "id": "d4697371-6072-40f8-8994-a59ef36ffa4d",
   "metadata": {},
   "source": [
    "# The Pyramid Principle"
   ]
  },
  {
   "cell_type": "markdown",
   "id": "01b37e44-46ea-4bb0-b7d6-62ac13038dfc",
   "metadata": {},
   "source": [
    "### Introduction"
   ]
  },
  {
   "cell_type": "markdown",
   "id": "cc8a68a7-8b39-437f-9ed7-e9840b3556cd",
   "metadata": {},
   "source": [
    "In the last lesson, we saw some general rules for talking professionally.  This involved starting broad and going narrow, providing the problem and then a solution, and providing a level of organization or a summary when providing an answer.  These techniques will encourage us to provide comprehensive, concise, and well organized answers.\n",
    "\n",
    "In this lesson, we'll build upon these ideas by learning about the pyramid principle."
   ]
  },
  {
   "cell_type": "markdown",
   "id": "a7251436-301d-4a97-a618-eaba04137a7a",
   "metadata": {},
   "source": [
    "### The Pyramid Principal"
   ]
  },
  {
   "cell_type": "markdown",
   "id": "32ab4452-ad80-474a-bc69-87a55b7fa278",
   "metadata": {},
   "source": [
    "Take a look at the diagram below.  If you were building a powerpoint, you could imagine that each teal rectangle represents a different slide.  Or if it's an essay, it's a different paragraph."
   ]
  },
  {
   "cell_type": "markdown",
   "id": "811175a0-da57-4d63-a96b-096057a5777a",
   "metadata": {},
   "source": [
    "<img src=\"./pyramid-diagram.png\" width=\"70%\">"
   ]
  },
  {
   "cell_type": "markdown",
   "id": "fc1f2952-3f96-4e60-bf70-4f098446476a",
   "metadata": {},
   "source": [
    "So notice that the first slide really supports what we said previously.  We should provide some context, or the problem, followed by the answer.  Then we can have a three subpoints.\n",
    "\n",
    "In the rest of the presentation, we move through each of the supporting arguments.  So the supporting arguments support the overall conclusion, and each of the subpoints supports the supporting argument. "
   ]
  },
  {
   "cell_type": "markdown",
   "id": "8e8ee305-7697-4c50-9a6b-5f2425460e31",
   "metadata": {},
   "source": [
    "Let's give an example of the pyramid principal.  Let's say someone asks for you to explain DBT.  Here's how you could do it.\n",
    "\n",
    "* Without DBT data engineers tended to write more ad hoc and disorganized SQL queries.  DBT encourages data engineers apply best practices in software engineering to writing these queries.  This means a comprehensive git repository, a codebase structured with design patterns, and ensures data quality with testing and scheduling.\n",
    "\n",
    "> Notice the problem to solution in sentences 1 and 2.  And then the supporting arguments in the third paragraph.  Now the next section would expand each of these arguments."
   ]
  },
  {
   "cell_type": "markdown",
   "id": "3db1b13a-efbd-4b47-ac68-800b9c58bf3e",
   "metadata": {},
   "source": [
    "### Vertical integration\n",
    "\n",
    "So now that we saw how the initial statement is applies the principles of problem solution and broad to narrow that we saw earlier, let's see what the first an individual supporting argument may look like.\n",
    "\n",
    "1. DBT provides benefits of a comprehensive git repository\n",
    "    * One combined codebase instead of disorganized files\n",
    "    * Main and feature branches\n",
    "    * Developer schemas and production schemas so that development changes do not affect production.\n",
    "\n",
    "Notice that each of the bullet points supports the top line sentence.  If it didn't we should either remove the bullet point, or update the top sentence so that better encapsulated the underlying point.  This is called **vertical integration**.  By vertical integration, we mean that a single each of the subpoints supports the topic sentence at the top.\n",
    "\n",
    "> And again, this could be the topic sentence of either a paragraph or a slide in a presentation, or a section of a report -- vertical integration means that each component supports that topic sentence."
   ]
  },
  {
   "cell_type": "markdown",
   "id": "9614908a-4957-42dc-8593-a356e7c9fb53",
   "metadata": {},
   "source": [
    "### Horizontal integration"
   ]
  },
  {
   "cell_type": "markdown",
   "id": "722e304d-a8db-46c8-a8d5-d4a436d2fac6",
   "metadata": {},
   "source": [
    "With horizontal integration, this means that each slide or paragraph should flow from to the other.  The best way to test for this is to only read the topic sentences and verify that they read sequentially.\n",
    "\n",
    "For example let's say that our presentation consists of the following two sections."
   ]
  },
  {
   "cell_type": "markdown",
   "id": "197c91d7-9ff6-4065-8851-754c738d97d4",
   "metadata": {},
   "source": [
    "1. DBT provides benefits of a comprehensive git repository\n",
    "    * One combined codebase instead of disorganized files\n",
    "    * Main and feature branches\n",
    "    * Developer schemas and production schemas so that development changes do not affect production.\n",
    "2. Structured design patterns and code\n",
    "    * Staging, Integration, and Marts\n",
    "    * Each file structured CTEs\n",
    "    * Schemas and sources"
   ]
  },
  {
   "cell_type": "markdown",
   "id": "49d9b91c-6f81-423f-a86f-0ae0e258ba34",
   "metadata": {},
   "source": [
    "Ok, so now let's try out our horizontal integration test, by just combining the topic sentences."
   ]
  },
  {
   "cell_type": "markdown",
   "id": "7cbffcc8-50aa-48a6-944d-51b06826b08c",
   "metadata": {},
   "source": [
    "1. DBT provides benefits of a comprehensive git repository\n",
    "2. Structured design patterns and code"
   ]
  },
  {
   "cell_type": "markdown",
   "id": "f2625385-b36f-46ea-a577-d0fc6ed2c7ca",
   "metadata": {},
   "source": [
    "It doesn't exactly trip off the tongue does it.  Let's change it to something like the following:"
   ]
  },
  {
   "cell_type": "markdown",
   "id": "dd669aba-3f74-4fa2-9270-13131c726829",
   "metadata": {},
   "source": [
    "1. DBT provides the benefits of a comprehensive git repository\n",
    "2. DBT encourages structured design patterns and SQL code"
   ]
  },
  {
   "cell_type": "markdown",
   "id": "116b1692-5b6e-434a-879d-ee7332aff898",
   "metadata": {},
   "source": [
    "This flows better.  And remember that each topic sentence should be supported by respective subpoints."
   ]
  },
  {
   "cell_type": "markdown",
   "id": "907c721b-3b54-4a0e-b775-8fc181215d85",
   "metadata": {},
   "source": [
    "### Expanding the pyramid"
   ]
  },
  {
   "cell_type": "markdown",
   "id": "b0add251-07f6-4721-a7a4-89a3fe9b554d",
   "metadata": {},
   "source": [
    "As we hinted at above, for many presentations the pyramid would have to be expanded.\n",
    "\n",
    "For example, instead of three slides it may be three sections -- one for each argument -- with each section consisting of a different argument, and each argument having 1 - 3 subpoints.  "
   ]
  },
  {
   "cell_type": "markdown",
   "id": "2872ab4e-2ea3-475a-90f4-1dbe240d25fb",
   "metadata": {},
   "source": [
    "<img src=\"./expanded-pyramid.png\" width=\"100%\">"
   ]
  },
  {
   "cell_type": "markdown",
   "id": "93388f6e-cef4-4ce9-bada-7047cde0bfac",
   "metadata": {},
   "source": [
    "Notice that at each level, we keep our horizontal and vertical integration -- that is what's most important."
   ]
  },
  {
   "cell_type": "markdown",
   "id": "5b425eb6-5ebb-4413-aaed-dc66f76ae7c8",
   "metadata": {},
   "source": [
    "### Always in groups of three?"
   ]
  },
  {
   "cell_type": "markdown",
   "id": "a6aed5a4-f51b-4571-8c5c-8f835b220711",
   "metadata": {},
   "source": [
    "It seems that we really like the number three.  For example, above we have three sections, with three supporting arguments, each supported by three points.  Is that always necessary.  Here are some good rules of thumb:\n",
    "\n",
    "* Only have 1 - 4 subpoints in a slide/paragraph.\n",
    "* In terms of the number of slides/paragraphs this can be lengthier in a meeting -- but 5 to 7 is plenty\n",
    "* And no more than 4 sections, but three is ideal\n",
    "\n",
    "Think of it like our code.  We want each component concise and clear.  If we can keep a function to five lines, we can keep a given function to four or fewer lines."
   ]
  },
  {
   "cell_type": "markdown",
   "id": "7e9024d9-7f03-46e8-8f3a-fed8168e1c33",
   "metadata": {},
   "source": [
    "### Summary\n",
    "\n",
    "In this lesson, we learned components of the pyramid principle.  The most important part is to enforce both vertical and horizontal integration.  Additionally, our principles that we described in the previous section still apply.  This means that we can take advantage of problem-solution technique, and providing answers first -- which we do with our topic sentences on each slide, or providing our overall conclusion in one of the first slides of our presentation. "
   ]
  },
  {
   "cell_type": "markdown",
   "id": "875adb6f-4747-4c25-a21d-c4277ee18418",
   "metadata": {},
   "source": [
    "### Sample DBT Explanation"
   ]
  },
  {
   "cell_type": "markdown",
   "id": "fa4f1ec6-e94f-44d2-a78e-a174a6df6a8b",
   "metadata": {},
   "source": [
    "1. DBT provides benefits of a comprehensive git repository\n",
    "    * One combined codebase instead of disorganized files\n",
    "    * Main and feature branches\n",
    "    * Developer schemas and production schemas so that development changes do not affect production.\n",
    "2. DBT encourages structured design patterns and SQL code\n",
    "    * Staging, Integration, and Marts\n",
    "    * Each file structured CTEs\n",
    "    * Schemas and sources\n",
    "3. DBT encourages data quality\n",
    "    * Ability to employ prewritten and custom tests\n",
    "    * Scheduled execution to ensure data and queries are up to date\n",
    "    * Data lineage to show downstream effects of coding changes\n",
    "    "
   ]
  },
  {
   "cell_type": "code",
   "execution_count": null,
   "id": "10cb817e-91e5-4fe5-8cd5-b82fb399f591",
   "metadata": {},
   "outputs": [],
   "source": []
  }
 ],
 "metadata": {
  "kernelspec": {
   "display_name": "Python 3 (ipykernel)",
   "language": "python",
   "name": "python3"
  },
  "language_info": {
   "codemirror_mode": {
    "name": "ipython",
    "version": 3
   },
   "file_extension": ".py",
   "mimetype": "text/x-python",
   "name": "python",
   "nbconvert_exporter": "python",
   "pygments_lexer": "ipython3",
   "version": "3.10.6"
  }
 },
 "nbformat": 4,
 "nbformat_minor": 5
}
