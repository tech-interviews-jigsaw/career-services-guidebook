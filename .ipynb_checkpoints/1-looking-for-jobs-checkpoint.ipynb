{
 "cells": [
  {
   "cell_type": "markdown",
   "id": "6cc723c2-2dc9-4d4f-9db4-1595ace28bb0",
   "metadata": {},
   "source": [
    "# Looking for Jobs: Whirlwind Tour"
   ]
  },
  {
   "cell_type": "markdown",
   "id": "4962c311-61fc-446a-90af-c268e00d382e",
   "metadata": {},
   "source": [
    "### Introduction"
   ]
  },
  {
   "cell_type": "markdown",
   "id": "7710f2d0-6f5d-46fe-b5b7-ede10f5722ac",
   "metadata": {},
   "source": [
    "In this lesson, we will see different ways to look for and find different jobs that we are eligible for."
   ]
  },
  {
   "cell_type": "markdown",
   "id": "a64e1975-b50c-4a1c-be37-d54ab5bc32e8",
   "metadata": {},
   "source": [
    "### Hitting the Numbers"
   ]
  },
  {
   "cell_type": "markdown",
   "id": "8b0dba61-6805-45aa-a970-05783ee64fac",
   "metadata": {},
   "source": [
    "Our goal with searching for jobs is to begin building a funnel.  We know that we will only get interviews on a certain percentage of jobs that we apply for, so we will need to apply for a lot more positions than we expect to interview for.\n",
    "\n",
    "How many positions should a jobseeker apply for?\n",
    "\n",
    "According to Krishna, who founded careercopilots.com that helps students get jobs, one of the primary findings about applying through job boards is that job seekers simply did not apply for enough positions.\n",
    "\n",
    "> According to Krishna, the average job seeker will apply for roughly 20 positions per week.  But really, this number should hit 50 per week."
   ]
  },
  {
   "cell_type": "markdown",
   "id": "19ce150a-749b-4109-b2ef-171ad436d05e",
   "metadata": {},
   "source": [
    "Now 50 positions per week may feel like a lot, but really it amounts to 10 per day, five days a week.  This should take roughly 1 - 2 hours per day, which is a reasonable amount to invest in a job search."
   ]
  },
  {
   "cell_type": "markdown",
   "id": "be9b68c4-11f5-43fe-beb7-fa9feb005aea",
   "metadata": {},
   "source": [
    "### Alternative Approach"
   ]
  },
  {
   "cell_type": "markdown",
   "id": "d44218d6-2307-494d-a55d-2ee5c3049a38",
   "metadata": {},
   "source": [
    "In the enrollment agreement, we listed an alternative approach:\n",
    "\n",
    "* Apply to 10+ positions per week\n",
    "* Send 10 or more messages to hiring managers per week\n",
    "* Attend one networking event per week"
   ]
  },
  {
   "cell_type": "markdown",
   "id": "b6410ffd-e744-4165-812c-dc4519430a85",
   "metadata": {},
   "source": [
    "This is emphasizing a warm outreach approach, which we found to be most successful for students.  For most students, blindly applying has not been successful.\n",
    "\n",
    "However, the best approach would be to try to apply to ~50 per week for a week or two, and then assess if this is effective through huntr.  From there, one can shift attention to the warm outreach approach of applications with corresponding messages to hiring managers.  "
   ]
  },
  {
   "cell_type": "markdown",
   "id": "41f83a03-0fbc-4bee-bc0c-fc11ae617ffd",
   "metadata": {},
   "source": [
    "### Searching Job Boards"
   ]
  },
  {
   "cell_type": "markdown",
   "id": "475003dd-c96e-4062-9a58-1532f342c24a",
   "metadata": {},
   "source": [
    "So how do we find our positions to search.  A primary engine should be linkedin.  Click on this link to see a [good initial search](https://www.linkedin.com/jobs/search/?currentJobId=3412291464&f_E=1%2C2%2C3&f_TPR=r604800&f_WT=2&geoId=103644278&keywords=data%20engineer&location=United%20States&refresh=true)."
   ]
  },
  {
   "cell_type": "markdown",
   "id": "7814a380-a995-43df-92df-8850100a5ee1",
   "metadata": {},
   "source": [
    "And then you can update the search to match that below."
   ]
  },
  {
   "cell_type": "markdown",
   "id": "98c503ca-e449-495b-9e73-8143f03303d5",
   "metadata": {},
   "source": [
    "<img src=\"./linkedin-apply.png\" width=\"70%\">"
   ]
  },
  {
   "cell_type": "markdown",
   "id": "6793a9fe-3de5-4b7d-9d43-f7be2ff64096",
   "metadata": {},
   "source": [
    "So we are searching for: \n",
    "    * data engineering positions, \n",
    "    * setting the date posted to the past week, and \n",
    "    * experience level to `internship`, `entry level` or `associate level`.  \n",
    "    * And then setting to on-site/`remote` to remote. \n",
    "    \n",
    "    \n",
    "Now while this is a good initial search, from here, we can do variations of this search.  The region can be set to your region, and then you can alter to on-site.  \n",
    "\n",
    "> Employers may have a preference for on-site or hybrid roles for junior/associate level positions, so do search for them."
   ]
  },
  {
   "cell_type": "markdown",
   "id": "f9f40ec0-782a-48e2-9b52-ebc20b46105e",
   "metadata": {},
   "source": [
    "Finally there are additional positions that we can search for:\n",
    "\n",
    "* More advanced positions\n",
    "    * Data Engineer\n",
    "    * Python Engineer\n",
    "    * Backend Engineer\n",
    "    * Analytics Engineer\n",
    "    * Business Intelligence Engineer\n",
    "    * Data Analyst"
   ]
  },
  {
   "cell_type": "markdown",
   "id": "b010c100-6ca4-4632-98fe-9dfbb4114efd",
   "metadata": {},
   "source": [
    "> We'll discuss what each of these mean in a later lesson."
   ]
  },
  {
   "cell_type": "markdown",
   "id": "74e0d52f-8184-4e6b-9888-fb8935cf9164",
   "metadata": {},
   "source": [
    "### Filtering positions"
   ]
  },
  {
   "cell_type": "markdown",
   "id": "17ae9ec4-9dec-428a-9949-4f9e8608cbb3",
   "metadata": {},
   "source": [
    "Now that we have created the initial search, the next step is to find positions that we will be fairly eligible and competitive for.  \n",
    "\n",
    "There are different criteria for which to do this.  Let's take a look at the positions below."
   ]
  },
  {
   "cell_type": "markdown",
   "id": "ad065b77-55b7-41f5-a69a-99cca8abd819",
   "metadata": {},
   "source": [
    "<img src=\"./applicable-jobs.png\" width=\"40%\">"
   ]
  },
  {
   "cell_type": "markdown",
   "id": "b407c4b4-7157-42fb-9120-0732b3582c9a",
   "metadata": {},
   "source": [
    "Each of the jobs above initially look like good candidates.  We can see that they each mention data engineering, which is the focus of the course, and that the experience level is not specified as senior (positions like Associate Data Engineer, and Data Engineering I or II are explicitly junior).\n",
    "\n",
    "The other criteria we can see is the number of applicants listed, and also when the positions were listed.  On the positions above, the only negative influence so far is how long ago the position was listed -- as one month ago is on the longer end."
   ]
  },
  {
   "cell_type": "markdown",
   "id": "2a9a6fae-2461-42ec-9e87-97d75de288c2",
   "metadata": {},
   "source": [
    "### Viewing the job description"
   ]
  },
  {
   "cell_type": "markdown",
   "id": "97f4945a-44fe-4624-9fda-86150f0e46c9",
   "metadata": {},
   "source": [
    "Here is a typical job description:"
   ]
  },
  {
   "cell_type": "markdown",
   "id": "380c6121-b8da-4853-a76c-2810dc708e40",
   "metadata": {},
   "source": [
    "> <img src=\"./eng-job-description.png\" width=\"70%\">"
   ]
  },
  {
   "cell_type": "markdown",
   "id": "3f839ab4-b712-430f-9a0e-7bc45884d065",
   "metadata": {},
   "source": [
    "When reading the job experience section, students are often discouraged from applying, even when they would make for a strong candidates.\n",
    "\n",
    "* Experience\n",
    "\n",
    "For experience, few positions will state they are looking for 0 years of experience, which is what you may have.  Instead anywhere from 0 - 2 years of experience signifies a junior level position, which you can apply for.  And 3+ years, while more intermediate, still may be worth applying for.\n",
    "\n",
    "* Skills\n",
    "\n",
    "The positions may list skills or technology that you may not have.  \n",
    "\n",
    "1. You do not need all of the skills listed, oftentimes certain alternatives are ok.  \n",
    "\n",
    "> For example, a position requesting Python, Java and Scala will likely be ok with you knowing just one of those backend, object oriented languages.  So this would not disqualify you.  \n",
    "\n",
    "> A position mentioning Google Cloud or Azure, would likely be ok will knowledge of AWS.\n",
    "\n",
    "2. It's ok if you do not have a all of the skills mentioned -- instead, look at the emphasis throughout (especially the description) to get a sense of their priorities.\n",
    "\n",
    "For example, the below description, mentions a generic data engineering stack, but also mentions Pyspark or Databricks."
   ]
  },
  {
   "cell_type": "markdown",
   "id": "e78f4caf-cdf6-4eb8-a78e-0ef6110d24de",
   "metadata": {},
   "source": [
    "> <img src=\"./job-description.png\" width=\"70%\">"
   ]
  },
  {
   "cell_type": "markdown",
   "id": "884845bf-9852-4869-a280-f6ded36a7f28",
   "metadata": {},
   "source": [
    "However, with meeting many of the other listed skills this would be worth applying to.  Remember that if you ultimately land the interview, you can read up on Pyspark (we have lessons available), or can emphasize your understanding of cloud computing.  \n",
    "\n",
    "A job that would be more disqualifying is if the position talks about advanced or expert knowledge of Pyspark, or optimizing Pyspark jobs."
   ]
  },
  {
   "cell_type": "markdown",
   "id": "5f2fc84c-99e4-4e63-9ac7-f5b5aea26102",
   "metadata": {},
   "source": [
    "### Applying for the position"
   ]
  },
  {
   "cell_type": "markdown",
   "id": "d943f0fe-d5fd-4bca-a551-7c2706472f3d",
   "metadata": {},
   "source": [
    "In applying for the position, make sure that your linkedin profile has a photo, and has relevant experience listed towards the top of your profile.  Also, your resume should be in pdf form, as it will make it much easier to read."
   ]
  },
  {
   "cell_type": "markdown",
   "id": "246e5971-52c0-4754-8522-7d5c529f83ee",
   "metadata": {},
   "source": [
    "### Summary"
   ]
  },
  {
   "cell_type": "markdown",
   "id": "2d43486d-fc0a-422a-9ff3-f98828f89fd0",
   "metadata": {},
   "source": [
    "In summary, when looking at these jobs you are looking for clues to see (1) if the position is more junior or senior, and (2) whether you are trained in the skills.  Clues that the position is more junior is when the years of experience requested is 3 years or lower.  And when looking at required skillsets, remember that alternatives are ok (eg. Python as a backend language), or AWS instead of GCP.  Also, note that most applicants will not have every skill listed -- so don't disqualify yourself for missing a particular skill (like Pyspark).  Most applicants don't have all requested skills, and you can ramp up on the skillset before the interview.  "
   ]
  }
 ],
 "metadata": {
  "kernelspec": {
   "display_name": "Python 3 (ipykernel)",
   "language": "python",
   "name": "python3"
  },
  "language_info": {
   "codemirror_mode": {
    "name": "ipython",
    "version": 3
   },
   "file_extension": ".py",
   "mimetype": "text/x-python",
   "name": "python",
   "nbconvert_exporter": "python",
   "pygments_lexer": "ipython3",
   "version": "3.12.3"
  }
 },
 "nbformat": 4,
 "nbformat_minor": 5
}
