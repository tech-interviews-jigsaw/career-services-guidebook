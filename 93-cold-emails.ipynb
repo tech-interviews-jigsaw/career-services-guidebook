{
 "cells": [
  {
   "cell_type": "markdown",
   "id": "23c90c21-4e93-4903-9938-414f79529b7a",
   "metadata": {},
   "source": [
    "# Sending Cold Emails"
   ]
  },
  {
   "cell_type": "markdown",
   "id": "16b3153e-9c88-44cb-899f-0cb8484289bf",
   "metadata": {},
   "source": [
    "### Introduction"
   ]
  },
  {
   "cell_type": "markdown",
   "id": "8bb5709f-8258-41b9-9436-e2719f6e3813",
   "metadata": {},
   "source": [
    "An excellent way to get opportunities, and considered in a way that you may not otherwise is through sending cold **emails**.  Here's why they're effecitve: just cover a couple of reasons\n",
    "\n",
    "* they can be sent directly to the hiring manager,\n",
    "* they are used rarely by candidates, so you have less competition\n",
    "* employers know that it takes time, so it shows a level of investment in the position"
   ]
  },
  {
   "cell_type": "markdown",
   "id": "f51831e9-9bd8-4818-897f-7152416bf29a",
   "metadata": {},
   "source": [
    "### Getting started"
   ]
  },
  {
   "cell_type": "markdown",
   "id": "74f52355-a13c-4b6a-a675-a0c00cb6f350",
   "metadata": {},
   "source": [
    "Let's say that we are interested in the [following position](https://careers.base10.vc/companies/notion-2/jobs/35979562-software-engineer-data-platform#content) as a software engineer.  Our first step is to try to find the hiring manager.\n",
    "\n",
    "> The Google search is typically better than linkedin's internal search, so you can just put \"linkedin\" followed by the title and company of the position."
   ]
  },
  {
   "cell_type": "markdown",
   "id": "1a596e62-72d9-4d72-baad-51a2ba35b071",
   "metadata": {},
   "source": [
    "<img src=\"./yisu-notion.png\" width=\"60%\">"
   ]
  },
  {
   "cell_type": "markdown",
   "id": "40260552-45a2-45ee-a781-64ce471b788e",
   "metadata": {},
   "source": [
    "From there, we see various linkedin profiles, including someone who indicates that they are looking for data engineers."
   ]
  },
  {
   "cell_type": "markdown",
   "id": "70eedbd7-3e9c-4bee-b74c-5b6a9287a867",
   "metadata": {},
   "source": [
    "### Finding the email"
   ]
  },
  {
   "cell_type": "markdown",
   "id": "340fa62f-703c-45e0-a2e8-5a347702f743",
   "metadata": {},
   "source": [
    "Now our goal **is not** to send a message on linkedin.  Linkedin unfortunately, is pretty flooded with reach outs.  We will have much better success if we can find and send an email."
   ]
  },
  {
   "cell_type": "markdown",
   "id": "577a279f-aa95-461a-9cec-c2de44542595",
   "metadata": {},
   "source": [
    "It turns out there are various chrome extensions that can help us find someone's email address.\n",
    "\n",
    "You can see a list of [them here](https://www.demandcurve.com/blog/find-emails-linkedin), including [contact out](https://chromewebstore.google.com/detail/email-finder-by-contactou/jjdemeiffadmmjhkbbpglgnlgeafomjo?hl=en) and gem.com.\n",
    "\n",
    "Let's quickly show how gem.com works.  After downloading the chrome extension and signing up for gem, navigate to an individual's profile page.  Once you get there, click on more and `Save to pdf`."
   ]
  },
  {
   "cell_type": "markdown",
   "id": "3eb529c6-57ba-41cd-8cee-21c18fc96203",
   "metadata": {},
   "source": [
    "> <img src=\"./save-pdf.png\" width=\"30%\">"
   ]
  },
  {
   "cell_type": "markdown",
   "id": "ce7ea3be-a2c3-4b2a-9572-7cc493069a14",
   "metadata": {},
   "source": [
    "You should see the gem extension pop up.  (You may have to sign up and log into it first.)  And from there, you should find their email addresses."
   ]
  },
  {
   "cell_type": "markdown",
   "id": "1b9a9e07-753f-469f-8e5a-67d3f657df4b",
   "metadata": {},
   "source": [
    "<img src=\"./email-downloads.png\" width=\"10%\">"
   ]
  },
  {
   "cell_type": "markdown",
   "id": "a7c1bf77-229a-4333-ae24-1092e1f27d1c",
   "metadata": {},
   "source": [
    "Remember, if you do not find that one person's email address, you can look for others who work at the company.  And if you are able to figure out the email pattern (eg. first initial lastname @company.com), then you can also try sending the email even when you are not sure.\n",
    "\n",
    "Finally, remember that when these are *engineers*, you can also look for a person's github page.  "
   ]
  },
  {
   "cell_type": "markdown",
   "id": "06fdb585-bc51-424d-949e-a25c272803fd",
   "metadata": {},
   "source": [
    "<img src=\"./github-message.png\" width=\"40%\">"
   ]
  },
  {
   "cell_type": "markdown",
   "id": "c0377772-56a4-4c9d-98d3-89be733b5c96",
   "metadata": {},
   "source": [
    "And that github profile oftentimes will have an individual's email."
   ]
  },
  {
   "cell_type": "markdown",
   "id": "c900ec4d-d808-4e98-aecb-5abaf7bcc8e5",
   "metadata": {},
   "source": [
    "### Sending the email"
   ]
  },
  {
   "cell_type": "markdown",
   "id": "0ed6fd84-bc85-4156-ac20-1b465ca6676a",
   "metadata": {},
   "source": [
    "You don't have to be too shy when sending an email.  If you are sending it from a genuine place, it's not spam.  Make the case as to why you think you're a good fit for the position.  This is the beginning of your application.\n",
    "\n",
    "Once again, you want to explain:\n",
    "\n",
    "* Your genuine interest in the position \n",
    "* What makes you a good fit\n",
    "\n",
    "In both cases, consider what is unique about the position, and then what is unique about your background or interests that would make you a good fit.\n",
    "\n",
    "> And remember, doing some extra research is helpful.  So look at the company's blog, github, or blog's/interviews of that person you're messaging.\n",
    "\n",
    "Here's an example of a potential message."
   ]
  },
  {
   "cell_type": "markdown",
   "id": "d72faa1a-851a-424e-a02e-4310d3b01978",
   "metadata": {},
   "source": [
    "* `Subject: A cold reachout`\n",
    "* `Subject: Re: Potential Data Eng Fit`"
   ]
  },
  {
   "cell_type": "markdown",
   "id": "8ed11b42-6e8b-41e3-90bc-e9fe98e31b58",
   "metadata": {},
   "source": [
    "> Sample content"
   ]
  },
  {
   "cell_type": "markdown",
   "id": "b459e2e0-5a21-43e3-818b-58606343f4ee",
   "metadata": {},
   "source": [
    "\n",
    "Hi X, \n",
    "\n",
    "I really love the work that you're doing at Flatiron School, and am very interested in the lead instructor position.  I've been passionate about education, and software development for years.  \n",
    "\n",
    "A couple of points in my experience, that I wanted to highlight:\n",
    "\n",
    "* Developed an education group from scratch, where recruited teachers, and tutored in English\n",
    "* Worked on the refactoring team of a ~1 million line codebase, communicating best practices to eng team\n",
    "* Currently reading books on the craft of teaching including, Teach Like a Champion, and What the Best Professors Do\n",
    "\n",
    "I've been a fan of Flatiron School since I learned about it 6 months ago, especially for it's emphasis on community, workforce mobilization, and pedagogy.  I'm attaching my resume below for you're interest.\n",
    "\n",
    "Please let me know if you would like any additional context.\n",
    "\n",
    "Jeff\n"
   ]
  },
  {
   "cell_type": "markdown",
   "id": "5e6317ef-c364-43b1-beba-4fe5f668d64b",
   "metadata": {},
   "source": [
    "Here's what makes the email strong:\n",
    "\n",
    "* It's very particular to the company and mission.\n",
    "* It shows my own genuine interest and relevant experience.\n",
    "* Notice that even reading the correct books can be relevant experience.  "
   ]
  },
  {
   "cell_type": "markdown",
   "id": "27f48a3b-6ce5-4c46-b4dc-91fdc7844520",
   "metadata": {},
   "source": [
    "### Following up"
   ]
  },
  {
   "cell_type": "markdown",
   "id": "6a17f378-6833-4173-9821-0f44c34b7e55",
   "metadata": {},
   "source": [
    "If they don't respond, you don't have to badger that individual.  However, it is ok to:\n",
    "\n",
    "1. Follow up 6 - 8 weeks down the line (especially if the opportunity is still available)\n",
    "2. Try other individuals at the company (especially if you don't hear back in a couple of days)\n",
    "3. Look at events, or other channels that you find employees"
   ]
  }
 ],
 "metadata": {
  "kernelspec": {
   "display_name": "Python 3 (ipykernel)",
   "language": "python",
   "name": "python3"
  },
  "language_info": {
   "codemirror_mode": {
    "name": "ipython",
    "version": 3
   },
   "file_extension": ".py",
   "mimetype": "text/x-python",
   "name": "python",
   "nbconvert_exporter": "python",
   "pygments_lexer": "ipython3",
   "version": "3.10.14"
  }
 },
 "nbformat": 4,
 "nbformat_minor": 5
}
